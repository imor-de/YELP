{
 "cells": [
  {
   "cell_type": "markdown",
   "metadata": {},
   "source": [
    "File name: Investigation_2.ipynb               \n",
    "Author: Florian Imorde                      \n",
    "Latest Update: 17.07.2019         "
   ]
  },
  {
   "cell_type": "code",
   "execution_count": 1,
   "metadata": {
    "scrolled": true
   },
   "outputs": [
    {
     "name": "stderr",
     "output_type": "stream",
     "text": [
      "Using TensorFlow backend.\n"
     ]
    }
   ],
   "source": [
    "import pandas as pd\n",
    "import numpy as np\n",
    "import matplotlib.pyplot as plt\n",
    "%matplotlib inline\n",
    "import json\n",
    "import nltk\n",
    "from nltk.tokenize import RegexpTokenizer\n",
    "from nltk.stem import WordNetLemmatizer\n",
    "from nltk.corpus import stopwords\n",
    "from collections import Counter\n",
    "from sklearn.model_selection import train_test_split\n",
    "from keras import Sequential\n",
    "from keras.layers import Embedding, Dense, LSTM, Bidirectional, LeakyReLU\n",
    "from keras.models import load_model"
   ]
  },
  {
   "cell_type": "markdown",
   "metadata": {},
   "source": [
    "# 0) Task"
   ]
  },
  {
   "cell_type": "markdown",
   "metadata": {},
   "source": [
    "**Questions:**\n",
    "\n",
    "Each business in the YELP dataset is rated by the YELP community by reviews. By understanding the reviews and there positive/negative judgment, business can improve and optimize better to the wishes and needs of their customers.\n",
    "\n",
    "**Approach:**\n",
    "\n",
    "Step 1: Preprocessing the reviews and relabel the 'star' rating into positive and negative reviews. <br>\n",
    "Step 2: Build up a Deep Learning Model for the sentiment analysis <br>"
   ]
  },
  {
   "cell_type": "markdown",
   "metadata": {},
   "source": [
    "# 1) Preprocessing"
   ]
  },
  {
   "cell_type": "markdown",
   "metadata": {},
   "source": [
    "## 1.1) Load the data"
   ]
  },
  {
   "cell_type": "code",
   "execution_count": 2,
   "metadata": {},
   "outputs": [],
   "source": [
    "path_dataset_review = '../data/yelp_dataset/review.json'"
   ]
  },
  {
   "cell_type": "code",
   "execution_count": 3,
   "metadata": {
    "scrolled": false
   },
   "outputs": [
    {
     "name": "stdout",
     "output_type": "stream",
     "text": [
      "0.0% loaded\n",
      "10.0% loaded\n",
      "20.0% loaded\n",
      "30.0% loaded\n",
      "40.0% loaded\n",
      "50.0% loaded\n",
      "60.0% loaded\n",
      "70.0% loaded\n",
      "80.0% loaded\n",
      "90.0% loaded\n",
      "100.0% loaded\n"
     ]
    }
   ],
   "source": [
    "# The 6.685.899 reviews of the dataset are to much for computation on a laptop. \n",
    "# Hence load just a view reviews manually.\n",
    "\n",
    "# Define the number of reviews to load from the file\n",
    "nr_reviews = 500000\n",
    "\n",
    "# Load the reviews from the reviews dataset\n",
    "file = open(path_dataset_review, encoding=\"utf8\") \n",
    "all_data = list()\n",
    "for i, line in enumerate(file):\n",
    "    if i%(nr_reviews/10)==0:\n",
    "        print(str(i*100/nr_reviews)+'% loaded' )\n",
    "    if i == nr_reviews:\n",
    "        break    \n",
    "    data = json.loads(line)\n",
    "    # extract only the review and the star rating form the line\n",
    "    text = data['text']\n",
    "    stars = data['stars']\n",
    "    all_data.append([stars, text])\n",
    "file.close()\n",
    "\n",
    "# Create the DataFrame\n",
    "df = pd.DataFrame(all_data, columns=['stars','text'])"
   ]
  },
  {
   "cell_type": "code",
   "execution_count": 4,
   "metadata": {},
   "outputs": [
    {
     "data": {
      "text/html": [
       "<div>\n",
       "<style scoped>\n",
       "    .dataframe tbody tr th:only-of-type {\n",
       "        vertical-align: middle;\n",
       "    }\n",
       "\n",
       "    .dataframe tbody tr th {\n",
       "        vertical-align: top;\n",
       "    }\n",
       "\n",
       "    .dataframe thead th {\n",
       "        text-align: right;\n",
       "    }\n",
       "</style>\n",
       "<table border=\"1\" class=\"dataframe\">\n",
       "  <thead>\n",
       "    <tr style=\"text-align: right;\">\n",
       "      <th></th>\n",
       "      <th>stars</th>\n",
       "      <th>text</th>\n",
       "    </tr>\n",
       "  </thead>\n",
       "  <tbody>\n",
       "    <tr>\n",
       "      <th>0</th>\n",
       "      <td>1.0</td>\n",
       "      <td>Total bill for this horrible service? Over $8G...</td>\n",
       "    </tr>\n",
       "    <tr>\n",
       "      <th>1</th>\n",
       "      <td>5.0</td>\n",
       "      <td>I *adore* Travis at the Hard Rock's new Kelly ...</td>\n",
       "    </tr>\n",
       "    <tr>\n",
       "      <th>2</th>\n",
       "      <td>5.0</td>\n",
       "      <td>I have to say that this office really has it t...</td>\n",
       "    </tr>\n",
       "    <tr>\n",
       "      <th>3</th>\n",
       "      <td>5.0</td>\n",
       "      <td>Went in for a lunch. Steak sandwich was delici...</td>\n",
       "    </tr>\n",
       "    <tr>\n",
       "      <th>4</th>\n",
       "      <td>1.0</td>\n",
       "      <td>Today was my second out of three sessions I ha...</td>\n",
       "    </tr>\n",
       "  </tbody>\n",
       "</table>\n",
       "</div>"
      ],
      "text/plain": [
       "   stars                                               text\n",
       "0    1.0  Total bill for this horrible service? Over $8G...\n",
       "1    5.0  I *adore* Travis at the Hard Rock's new Kelly ...\n",
       "2    5.0  I have to say that this office really has it t...\n",
       "3    5.0  Went in for a lunch. Steak sandwich was delici...\n",
       "4    1.0  Today was my second out of three sessions I ha..."
      ]
     },
     "execution_count": 4,
     "metadata": {},
     "output_type": "execute_result"
    }
   ],
   "source": [
    "df.head()"
   ]
  },
  {
   "cell_type": "markdown",
   "metadata": {},
   "source": [
    "## 1.2) EDA"
   ]
  },
  {
   "cell_type": "code",
   "execution_count": 5,
   "metadata": {},
   "outputs": [
    {
     "data": {
      "text/plain": [
       "<matplotlib.axes._subplots.AxesSubplot at 0x185a2d8f898>"
      ]
     },
     "execution_count": 5,
     "metadata": {},
     "output_type": "execute_result"
    },
    {
     "data": {
      "image/png": "[encoded data removed]",
      "text/plain": [
       "<Figure size 432x288 with 1 Axes>"
      ]
     },
     "metadata": {
      "needs_background": "light"
     },
     "output_type": "display_data"
    }
   ],
   "source": [
    "# Distribution of the star ratings\n",
    "star_count = df['stars'].value_counts()\n",
    "star_count.reindex([1, 2, 3, 4, 5]).plot.bar()"
   ]
  },
  {
   "cell_type": "code",
   "execution_count": 6,
   "metadata": {},
   "outputs": [
    {
     "data": {
      "text/plain": [
       "'Total bill for this horrible service? Over $8Gs. These crooks actually had the nerve to charge us $69 for 3 pills. I checked online the pills can be had for 19 cents EACH! Avoid Hospital ERs at all costs.'"
      ]
     },
     "execution_count": 6,
     "metadata": {},
     "output_type": "execute_result"
    }
   ],
   "source": [
    "df['text'][0]"
   ]
  },
  {
   "cell_type": "code",
   "execution_count": 7,
   "metadata": {},
   "outputs": [
    {
     "data": {
      "text/plain": [
       "\"I *adore* Travis at the Hard Rock's new Kelly Cardenas Salon!  I'm always a fan of a great blowout and no stranger to the chains that offer this service; however, Travis has taken the flawless blowout to a whole new level!  \\n\\nTravis's greets you with his perfectly green swoosh in his otherwise perfectly styled black hair and a Vegas-worthy rockstar outfit.  Next comes the most relaxing and incredible shampoo -- where you get a full head message that could cure even the very worst migraine in minutes --- and the scented shampoo room.  Travis has freakishly strong fingers (in a good way) and use the perfect amount of pressure.  That was superb!  Then starts the glorious blowout... where not one, not two, but THREE people were involved in doing the best round-brush action my hair has ever seen.  The team of stylists clearly gets along extremely well, as it's evident from the way they talk to and help one another that it's really genuine and not some corporate requirement.  It was so much fun to be there! \\n\\nNext Travis started with the flat iron.  The way he flipped his wrist to get volume all around without over-doing it and making me look like a Texas pagent girl was admirable.  It's also worth noting that he didn't fry my hair -- something that I've had happen before with less skilled stylists.  At the end of the blowout & style my hair was perfectly bouncey and looked terrific.  The only thing better?  That this awesome blowout lasted for days! \\n\\nTravis, I will see you every single time I'm out in Vegas.  You make me feel beauuuutiful!\""
      ]
     },
     "execution_count": 7,
     "metadata": {},
     "output_type": "execute_result"
    }
   ],
   "source": [
    "df['text'][1]"
   ]
  },
  {
   "cell_type": "markdown",
   "metadata": {},
   "source": [
    "### 1.2.1) Increase the review quality"
   ]
  },
  {
   "cell_type": "code",
   "execution_count": 8,
   "metadata": {},
   "outputs": [],
   "source": [
    "# Lowercase all words in the reviews\n",
    "df['processed_text'] = df['text'].str.lower()"
   ]
  },
  {
   "cell_type": "code",
   "execution_count": 9,
   "metadata": {},
   "outputs": [],
   "source": [
    "# Tokenize the reviews\n",
    "# Simultaneously the punctation is removed\n",
    "tokenize = RegexpTokenizer('\\w+')\n",
    "df['processed_text'] = df['processed_text'].apply(lambda review : tokenize.tokenize(review))"
   ]
  },
  {
   "cell_type": "code",
   "execution_count": 10,
   "metadata": {},
   "outputs": [],
   "source": [
    "# Remove stopwords for the reviews\n",
    "stoplist = stopwords.words('english')\n",
    "df['processed_text'] = df['processed_text'].apply(lambda review: ' '.join([word for word in review if word not in stoplist]))"
   ]
  },
  {
   "cell_type": "code",
   "execution_count": 11,
   "metadata": {},
   "outputs": [
    {
     "name": "stdout",
     "output_type": "stream",
     "text": [
      "The max length of words in a review befor the preprocessing: 5000\n",
      "The max length of words in a review after the preprocessing: 4026\n"
     ]
    }
   ],
   "source": [
    "print('The max length of words in a review befor the preprocessing:', max(df['text'].agg(len)))\n",
    "print('The max length of words in a review after the preprocessing:', max(df['processed_text'].agg(len)))"
   ]
  },
  {
   "cell_type": "markdown",
   "metadata": {},
   "source": [
    "## 1.3) Analyse the reviews"
   ]
  },
  {
   "cell_type": "code",
   "execution_count": 12,
   "metadata": {},
   "outputs": [
    {
     "name": "stdout",
     "output_type": "stream",
     "text": [
      "Most common words:\n"
     ]
    },
    {
     "data": {
      "text/plain": [
       "[('food', 258914),\n",
       " ('good', 243695),\n",
       " ('place', 241560),\n",
       " ('great', 215356),\n",
       " ('service', 180180),\n",
       " ('like', 175744),\n",
       " ('time', 172383),\n",
       " ('get', 162951),\n",
       " ('one', 162422),\n",
       " ('would', 153521)]"
      ]
     },
     "execution_count": 12,
     "metadata": {},
     "output_type": "execute_result"
    }
   ],
   "source": [
    "# 10 most common words\n",
    "counter_words = Counter(\" \".join(df['processed_text']).split())\n",
    "print('Most common words:')\n",
    "counter_words.most_common(10)"
   ]
  },
  {
   "cell_type": "code",
   "execution_count": 13,
   "metadata": {},
   "outputs": [
    {
     "name": "stdout",
     "output_type": "stream",
     "text": [
      "Least common words:\n"
     ]
    },
    {
     "data": {
      "text/plain": [
       "[('back', 148773),\n",
       " ('go', 134916),\n",
       " ('really', 126293),\n",
       " ('also', 107904),\n",
       " ('us', 102230),\n",
       " ('got', 96726),\n",
       " ('even', 95760),\n",
       " ('nice', 90402),\n",
       " ('well', 87894),\n",
       " ('best', 86207)]"
      ]
     },
     "execution_count": 13,
     "metadata": {},
     "output_type": "execute_result"
    }
   ],
   "source": [
    "# 10 least common words\n",
    "print('Least common words:')\n",
    "counter_words.most_common(20)[-10:]"
   ]
  },
  {
   "cell_type": "code",
   "execution_count": 14,
   "metadata": {},
   "outputs": [
    {
     "name": "stdout",
     "output_type": "stream",
     "text": [
      "Number of different words in the review: 167937\n"
     ]
    }
   ],
   "source": [
    "# Total different words\n",
    "print('Number of different words in the review:', len(counter_words.most_common()))"
   ]
  },
  {
   "cell_type": "markdown",
   "metadata": {},
   "source": [
    "## 1.4) Maximal length of the reviews"
   ]
  },
  {
   "cell_type": "code",
   "execution_count": 15,
   "metadata": {},
   "outputs": [
    {
     "data": {
      "image/png": "[encoded data removed]",
      "text/plain": [
       "<Figure size 432x288 with 1 Axes>"
      ]
     },
     "metadata": {
      "needs_background": "light"
     },
     "output_type": "display_data"
    },
    {
     "data": {
      "text/plain": [
       "count    500000.000000\n",
       "mean        363.038618\n",
       "std         335.591728\n",
       "min           0.000000\n",
       "25%         148.000000\n",
       "50%         258.000000\n",
       "75%         458.000000\n",
       "max        4026.000000\n",
       "dtype: float64"
      ]
     },
     "execution_count": 15,
     "metadata": {},
     "output_type": "execute_result"
    }
   ],
   "source": [
    "# Distribution of the number of words in a review\n",
    "reviews_len = [len(x) for x in df['processed_text']]\n",
    "pd.Series(reviews_len).hist()\n",
    "plt.title('Distribution of words')\n",
    "plt.show()\n",
    "pd.Series(reviews_len).describe()"
   ]
  },
  {
   "cell_type": "markdown",
   "metadata": {},
   "source": [
    "The histogram is showing, that the some reviews are written with 1000 and more words. For simplicity and reduction of complexity drop all reviews lower than the 10% quantile and greater than the 50% quantile."
   ]
  },
  {
   "cell_type": "code",
   "execution_count": 16,
   "metadata": {},
   "outputs": [],
   "source": [
    "lower_bountary = np.quantile(reviews_len, 0.1)\n",
    "upper_bountary = np.quantile(reviews_len, 0.5)\n",
    "index = np.argwhere((reviews_len > lower_bountary) & (reviews_len < upper_bountary))"
   ]
  },
  {
   "cell_type": "code",
   "execution_count": 17,
   "metadata": {},
   "outputs": [
    {
     "name": "stdout",
     "output_type": "stream",
     "text": [
      "Shape of df:        (500000, 3)\n",
      "Shape of df_reduce: (199154, 3)\n"
     ]
    }
   ],
   "source": [
    "# Delete to short and to long reviews\n",
    "df_reduce = df.loc[index.reshape(-1)]\n",
    "df_reduce = df_reduce.reset_index(drop=True)\n",
    "print('Shape of df:       ', df.shape)\n",
    "print('Shape of df_reduce:', df_reduce.shape)"
   ]
  },
  {
   "cell_type": "markdown",
   "metadata": {},
   "source": [
    "For inputing the reviews in a neural network, all reviews have to be from equal length. Hence, pad to short reviews with 0 and prune to long reviews to the maximal length. At the same time the words are transformed to a number."
   ]
  },
  {
   "cell_type": "code",
   "execution_count": 18,
   "metadata": {},
   "outputs": [],
   "source": [
    "# Define the maximal length, every review should have\n",
    "MAX_LEN = 100"
   ]
  },
  {
   "cell_type": "code",
   "execution_count": 19,
   "metadata": {},
   "outputs": [],
   "source": [
    "# Convert each word to an number\n",
    "word_to_number = {w:i+1 for i, (w,c) in enumerate(counter_words.most_common())}"
   ]
  },
  {
   "cell_type": "code",
   "execution_count": 20,
   "metadata": {},
   "outputs": [],
   "source": [
    "def PadPrune(reviews, max_len, word_to_number):\n",
    "    \"\"\" Prune or pad the reviews to the maximal length.\n",
    "    \n",
    "    Parameters:\n",
    "        reviews: Dataframe with the reviews \n",
    "        max_len: Maximal length of words\n",
    "        word_to_number: Dictionary for encoding the words to numbers\n",
    "        \n",
    "    Return:\n",
    "        reviews_padprune: Numpy array with the the processed reviews\n",
    "    \n",
    "    \"\"\"\n",
    "    \n",
    "    nr_reviews = reviews.shape[0]      # number of reviews\n",
    "    reviews_padprune = np.zeros((nr_reviews, max_len))\n",
    "    \n",
    "    for i in range(nr_reviews):                               \n",
    "        review_words =reviews[i].split()\n",
    "        review_len = len(review_words)\n",
    "        iteration_len = min(review_len, max_len)\n",
    "        \n",
    "        j = 0\n",
    "        for it in range(iteration_len):\n",
    "            try:\n",
    "                reviews_padprune[i, j] = word_to_number[review_words[j]]\n",
    "                j += 1\n",
    "            except:\n",
    "                pass\n",
    "    \n",
    "    return reviews_padprune"
   ]
  },
  {
   "cell_type": "code",
   "execution_count": 21,
   "metadata": {},
   "outputs": [],
   "source": [
    "X = PadPrune(df_reduce['processed_text'], MAX_LEN, word_to_number)"
   ]
  },
  {
   "cell_type": "markdown",
   "metadata": {},
   "source": [
    "## 1.5) Relabel the 'star' rating"
   ]
  },
  {
   "cell_type": "code",
   "execution_count": 22,
   "metadata": {},
   "outputs": [],
   "source": [
    "# The value 1 indicates a positive review\n",
    "# The value 0 indicates a negative review\n",
    "df_reduce['stars_relabeled'] = [1 if x > 3 else 0 for x in df_reduce['stars']]"
   ]
  },
  {
   "cell_type": "code",
   "execution_count": 23,
   "metadata": {},
   "outputs": [
    {
     "data": {
      "text/plain": [
       "<matplotlib.axes._subplots.AxesSubplot at 0x1868f7e9320>"
      ]
     },
     "execution_count": 23,
     "metadata": {},
     "output_type": "execute_result"
    },
    {
     "data": {
      "image/png": "[encoded data removed]",
      "text/plain": [
       "<Figure size 432x288 with 1 Axes>"
      ]
     },
     "metadata": {
      "needs_background": "light"
     },
     "output_type": "display_data"
    }
   ],
   "source": [
    "# Distribution of the relabeld star ratings\n",
    "star_relabeld_count = df_reduce['stars_relabeled'].value_counts()\n",
    "star_relabeld_count.reindex([0, 1]).plot.bar()"
   ]
  },
  {
   "cell_type": "markdown",
   "metadata": {},
   "source": [
    "# 2) Train-, Validation-, Test-Set"
   ]
  },
  {
   "cell_type": "code",
   "execution_count": 24,
   "metadata": {},
   "outputs": [],
   "source": [
    "X_train, X_test, y_train, y_test = train_test_split(X , df_reduce['stars_relabeled'], test_size=0.20, random_state=42)\n",
    "X_train, X_val, y_train, y_val = train_test_split(X_train, y_train, test_size=0.50, random_state=42)"
   ]
  },
  {
   "cell_type": "code",
   "execution_count": 25,
   "metadata": {},
   "outputs": [
    {
     "name": "stdout",
     "output_type": "stream",
     "text": [
      "Shape of X_train: (79661, 100)\n",
      "Shape of X_val: (79662, 100)\n",
      "Shape of X_test: (39831, 100)\n"
     ]
    }
   ],
   "source": [
    "print('Shape of X_train:', X_train.shape)\n",
    "print('Shape of X_val:', X_val.shape)\n",
    "print('Shape of X_test:', X_test.shape)"
   ]
  },
  {
   "cell_type": "markdown",
   "metadata": {},
   "source": [
    "# 3) Building the model"
   ]
  },
  {
   "cell_type": "markdown",
   "metadata": {},
   "source": [
    "## 3.1) Simple Neural Network (model 1)"
   ]
  },
  {
   "cell_type": "markdown",
   "metadata": {},
   "source": [
    "Building up a Neural Network with an Embedding Layer and an LSTM Layer."
   ]
  },
  {
   "cell_type": "code",
   "execution_count": 26,
   "metadata": {},
   "outputs": [],
   "source": [
    "# Length of the vocabulary\n",
    "VOCAB_LEN = len(word_to_number)+1\n",
    "# Dimensions for the embedding\n",
    "EMB_DIM = 100"
   ]
  },
  {
   "cell_type": "code",
   "execution_count": 27,
   "metadata": {},
   "outputs": [
    {
     "name": "stdout",
     "output_type": "stream",
     "text": [
      "WARNING:tensorflow:From C:\\Users\\Florian\\Anaconda3\\lib\\site-packages\\tensorflow\\python\\framework\\op_def_library.py:263: colocate_with (from tensorflow.python.framework.ops) is deprecated and will be removed in a future version.\n",
      "Instructions for updating:\n",
      "Colocations handled automatically by placer.\n",
      "WARNING:tensorflow:From C:\\Users\\Florian\\Anaconda3\\lib\\site-packages\\keras\\backend\\tensorflow_backend.py:3445: calling dropout (from tensorflow.python.ops.nn_ops) with keep_prob is deprecated and will be removed in a future version.\n",
      "Instructions for updating:\n",
      "Please use `rate` instead of `keep_prob`. Rate should be set to `rate = 1 - keep_prob`.\n"
     ]
    }
   ],
   "source": [
    "model1 = Sequential()\n",
    "\n",
    "model1.add(Embedding(VOCAB_LEN, EMB_DIM, input_length=MAX_LEN))\n",
    "model1.add(LSTM(units=100, dropout=0.5))\n",
    "model1.add(Dense(1, activation='sigmoid'))"
   ]
  },
  {
   "cell_type": "code",
   "execution_count": 28,
   "metadata": {},
   "outputs": [],
   "source": [
    "model1.compile(optimizer='adam', loss='binary_crossentropy', metrics=['accuracy'])"
   ]
  },
  {
   "cell_type": "code",
   "execution_count": 29,
   "metadata": {},
   "outputs": [
    {
     "name": "stdout",
     "output_type": "stream",
     "text": [
      "_________________________________________________________________\n",
      "Layer (type)                 Output Shape              Param #   \n",
      "=================================================================\n",
      "embedding_1 (Embedding)      (None, 100, 100)          16793800  \n",
      "_________________________________________________________________\n",
      "lstm_1 (LSTM)                (None, 100)               80400     \n",
      "_________________________________________________________________\n",
      "dense_1 (Dense)              (None, 1)                 101       \n",
      "=================================================================\n",
      "Total params: 16,874,301\n",
      "Trainable params: 16,874,301\n",
      "Non-trainable params: 0\n",
      "_________________________________________________________________\n"
     ]
    }
   ],
   "source": [
    "model1.summary()"
   ]
  },
  {
   "cell_type": "code",
   "execution_count": 30,
   "metadata": {},
   "outputs": [
    {
     "name": "stdout",
     "output_type": "stream",
     "text": [
      "WARNING:tensorflow:From C:\\Users\\Florian\\Anaconda3\\lib\\site-packages\\tensorflow\\python\\ops\\math_ops.py:3066: to_int32 (from tensorflow.python.ops.math_ops) is deprecated and will be removed in a future version.\n",
      "Instructions for updating:\n",
      "Use tf.cast instead.\n",
      "Train on 79661 samples, validate on 79662 samples\n",
      "Epoch 1/5\n",
      "79661/79661 [==============================] - 791s 10ms/step - loss: 0.5913 - acc: 0.7234 - val_loss: 0.5897 - val_acc: 0.7234\n",
      "Epoch 2/5\n",
      "79661/79661 [==============================] - 802s 10ms/step - loss: 0.5902 - acc: 0.7235 - val_loss: 0.5897 - val_acc: 0.7234\n",
      "Epoch 3/5\n",
      "79661/79661 [==============================] - 791s 10ms/step - loss: 0.5900 - acc: 0.7235 - val_loss: 0.5898 - val_acc: 0.7234\n",
      "Epoch 4/5\n",
      "79661/79661 [==============================] - 794s 10ms/step - loss: 0.5900 - acc: 0.7235 - val_loss: 0.5897 - val_acc: 0.7234\n",
      "Epoch 5/5\n",
      "79661/79661 [==============================] - 787s 10ms/step - loss: 0.5899 - acc: 0.7235 - val_loss: 0.5897 - val_acc: 0.7234\n"
     ]
    }
   ],
   "source": [
    "result_model1 = model1.fit(X_train, y_train, batch_size=32, epochs=5, validation_data=(X_val, y_val))"
   ]
  },
  {
   "cell_type": "code",
   "execution_count": 31,
   "metadata": {},
   "outputs": [
    {
     "name": "stdout",
     "output_type": "stream",
     "text": [
      "39831/39831 [==============================] - 30s 748us/step\n",
      "39831/39831 [==============================] - 34s 865us/step\n",
      "39831/39831 [==============================] - 28s 711us/step\n",
      "The accuracy of the first neural network:\n",
      "Test Set 0.7230298009103363\n",
      "Validaiton Set 0.7230298009103363\n",
      "Train Set 0.7230298009103363\n"
     ]
    }
   ],
   "source": [
    "score_train, accu_train= model1.evaluate(X_test, y_test, batch_size=32)\n",
    "score_val, accu_val= model1.evaluate(X_test, y_test, batch_size=32)\n",
    "score_test, accu_test= model1.evaluate(X_test, y_test, batch_size=32)\n",
    "print('The accuracy of the first neural network:')\n",
    "print('Test Set', accu_train)\n",
    "print('Validaiton Set', accu_val)\n",
    "print('Train Set', accu_test)"
   ]
  },
  {
   "cell_type": "code",
   "execution_count": 33,
   "metadata": {},
   "outputs": [],
   "source": [
    "# Save the model\n",
    "model1.save('LSTM_model1.h5')"
   ]
  },
  {
   "cell_type": "markdown",
   "metadata": {},
   "source": [
    "## 3.1) Extended Neural Network (model 2)"
   ]
  },
  {
   "cell_type": "markdown",
   "metadata": {},
   "source": [
    "Building up a Neural Network with an Embedding Layer and two stacked LSTM Layers."
   ]
  },
  {
   "cell_type": "code",
   "execution_count": 34,
   "metadata": {},
   "outputs": [],
   "source": [
    "# Length of the vocabulary\n",
    "VOCAB_LEN = len(word_to_number)+1\n",
    "# Dimensions for the embedding\n",
    "EMB_DIM = 100"
   ]
  },
  {
   "cell_type": "code",
   "execution_count": 35,
   "metadata": {},
   "outputs": [],
   "source": [
    "# Stacked LSTM Network\n",
    "model2 = Sequential()\n",
    "\n",
    "model2.add(Embedding(VOCAB_LEN, EMB_DIM, input_length=MAX_LEN))\n",
    "model2.add(Bidirectional(LSTM(100, dropout=0.5, return_sequences = True, return_state = False)))\n",
    "model2.add(Dense(50))\n",
    "model2.add(LeakyReLU(alpha=0.05))\n",
    "model2.add(LSTM(50, dropout=0.5))\n",
    "model2.add(Dense(1, activation='sigmoid'))"
   ]
  },
  {
   "cell_type": "code",
   "execution_count": 36,
   "metadata": {},
   "outputs": [],
   "source": [
    "model2.compile(optimizer='adam', loss='binary_crossentropy', metrics=['accuracy'])"
   ]
  },
  {
   "cell_type": "code",
   "execution_count": 37,
   "metadata": {},
   "outputs": [
    {
     "name": "stdout",
     "output_type": "stream",
     "text": [
      "Train on 79661 samples, validate on 79662 samples\n",
      "Epoch 1/3\n",
      "79661/79661 [==============================] - 1161s 15ms/step - loss: 0.5911 - acc: 0.7232 - val_loss: 0.5911 - val_acc: 0.7234\n",
      "Epoch 2/3\n",
      "79661/79661 [==============================] - 1123s 14ms/step - loss: 0.5899 - acc: 0.7235 - val_loss: 0.5898 - val_acc: 0.7234\n",
      "Epoch 3/3\n",
      "79661/79661 [==============================] - 1113s 14ms/step - loss: 0.5899 - acc: 0.7235 - val_loss: 0.5898 - val_acc: 0.7234\n"
     ]
    }
   ],
   "source": [
    "result_model2= model2.fit(X_train, y_train, batch_size=32, epochs=3, validation_data=(X_val, y_val))"
   ]
  },
  {
   "cell_type": "code",
   "execution_count": 39,
   "metadata": {},
   "outputs": [
    {
     "name": "stdout",
     "output_type": "stream",
     "text": [
      "39831/39831 [==============================] - 58s 1ms/step\n",
      "39831/39831 [==============================] - 62s 2ms/step\n",
      "39831/39831 [==============================] - 61s 2ms/step\n",
      "The accuracy of the first neural network:\n",
      "Test Set 0.7230298009103363\n",
      "Validaiton Set 0.7230298009103363\n",
      "Train Set 0.7230298009103363\n"
     ]
    }
   ],
   "source": [
    "score_train, accu_train= model2.evaluate(X_test, y_test, batch_size=32)\n",
    "score_val, accu_val= model2.evaluate(X_test, y_test, batch_size=32)\n",
    "score_test, accu_test= model2.evaluate(X_test, y_test, batch_size=32)\n",
    "print('The accuracy of the first neural network:')\n",
    "print('Test Set', accu_train)\n",
    "print('Validaiton Set', accu_val)\n",
    "print('Train Set', accu_test)"
   ]
  },
  {
   "cell_type": "code",
   "execution_count": 40,
   "metadata": {},
   "outputs": [],
   "source": [
    "# Save the model\n",
    "model2.save('LSTM_model2.h5')"
   ]
  },
  {
   "cell_type": "markdown",
   "metadata": {},
   "source": [
    "# 4) Outlook"
   ]
  },
  {
   "cell_type": "markdown",
   "metadata": {},
   "source": [
    "To improve the sentiment analysis, the following suggestions are made:\n",
    "* Normalize the distribution of positive and negative reviews\n",
    "* Use pre-learned embedding (e.g. Glove)\n",
    "* Experiment with different neural network designs\n",
    "* ..."
   ]
  }
 ],
 "metadata": {
  "kernelspec": {
   "display_name": "Python 3",
   "language": "python",
   "name": "python3"
  },
  "language_info": {
   "codemirror_mode": {
    "name": "ipython",
    "version": 3
   },
   "file_extension": ".py",
   "mimetype": "text/x-python",
   "name": "python",
   "nbconvert_exporter": "python",
   "pygments_lexer": "ipython3",
   "version": "3.7.0"
  }
 },
 "nbformat": 4,
 "nbformat_minor": 2
}
