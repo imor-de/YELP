{
 "cells": [
  {
   "cell_type": "markdown",
   "metadata": {},
   "source": [
    "File name: Investigation_3.ipynb               \n",
    "Author: Florian Imorde                      \n",
    "Latest Update: 26.07.2019         "
   ]
  },
  {
   "cell_type": "code",
   "execution_count": 1,
   "metadata": {
    "scrolled": true
   },
   "outputs": [
    {
     "name": "stderr",
     "output_type": "stream",
     "text": [
      "Using TensorFlow backend.\n"
     ]
    }
   ],
   "source": [
    "import pandas as pd\n",
    "import numpy as np\n",
    "import matplotlib.pyplot as plt\n",
    "%matplotlib inline\n",
    "import json\n",
    "import nltk\n",
    "from nltk.tokenize import RegexpTokenizer\n",
    "from nltk.stem import WordNetLemmatizer\n",
    "from nltk.corpus import stopwords\n",
    "from nltk.stem import SnowballStemmer\n",
    "from collections import Counter\n",
    "from sklearn.model_selection import train_test_split\n",
    "from keras.preprocessing.text import Tokenizer\n",
    "from keras.preprocessing.sequence import pad_sequences\n",
    "from keras import Sequential\n",
    "from keras.layers import Embedding, Dense, LSTM, LeakyReLU\n",
    "from keras.models import load_model"
   ]
  },
  {
   "cell_type": "markdown",
   "metadata": {},
   "source": [
    "# 0) Task"
   ]
  },
  {
   "cell_type": "markdown",
   "metadata": {},
   "source": [
    "**Questions:**\n",
    "\n",
    "Each business in the YELP dataset is rated by the YELP community by reviews. By understanding the reviews and there positive/negative judgment, business can improve and optimize better to the wishes and needs of their customers.\n",
    "\n",
    "**Approach:**\n",
    "\n",
    "Step 1: Preprocessing the reviews and relabel the 'star' rating into positive and negative reviews. <br>\n",
    "Step 2: Build up a Deep Learning Model for the sentiment analysis <br>"
   ]
  },
  {
   "cell_type": "markdown",
   "metadata": {},
   "source": [
    "# 1) Preprocessing"
   ]
  },
  {
   "cell_type": "markdown",
   "metadata": {},
   "source": [
    "## 1.1) Load the data"
   ]
  },
  {
   "cell_type": "code",
   "execution_count": 2,
   "metadata": {},
   "outputs": [],
   "source": [
    "path_dataset_review = '../data/yelp_dataset/review.json'"
   ]
  },
  {
   "cell_type": "code",
   "execution_count": 3,
   "metadata": {
    "scrolled": false
   },
   "outputs": [
    {
     "name": "stdout",
     "output_type": "stream",
     "text": [
      "0.0% loaded\n",
      "10.0% loaded\n",
      "20.0% loaded\n",
      "30.0% loaded\n",
      "40.0% loaded\n",
      "50.0% loaded\n",
      "60.0% loaded\n",
      "70.0% loaded\n",
      "80.0% loaded\n",
      "90.0% loaded\n",
      "100.0% loaded\n"
     ]
    }
   ],
   "source": [
    "# The 6.685.899 reviews of the dataset are to much for computation on a laptop. \n",
    "# Hence load just a view reviews manually.\n",
    "\n",
    "# Define the number of reviews to load from the file\n",
    "nr_reviews = 500000\n",
    "\n",
    "# Load the reviews from the reviews dataset\n",
    "file = open(path_dataset_review, encoding=\"utf8\") \n",
    "all_data = list()\n",
    "for i, line in enumerate(file):\n",
    "    if i%(nr_reviews/10)==0:\n",
    "        print(str(i*100/nr_reviews)+'% loaded' )\n",
    "    if i == nr_reviews:\n",
    "        break    \n",
    "    data = json.loads(line)\n",
    "    # extract only the review and the star rating form the line\n",
    "    text = data['text']\n",
    "    stars = data['stars']\n",
    "    all_data.append([stars, text])\n",
    "file.close()\n",
    "\n",
    "# Create the DataFrame\n",
    "df = pd.DataFrame(all_data, columns=['stars','text'])"
   ]
  },
  {
   "cell_type": "code",
   "execution_count": 4,
   "metadata": {},
   "outputs": [
    {
     "data": {
      "text/html": [
       "<div>\n",
       "<style scoped>\n",
       "    .dataframe tbody tr th:only-of-type {\n",
       "        vertical-align: middle;\n",
       "    }\n",
       "\n",
       "    .dataframe tbody tr th {\n",
       "        vertical-align: top;\n",
       "    }\n",
       "\n",
       "    .dataframe thead th {\n",
       "        text-align: right;\n",
       "    }\n",
       "</style>\n",
       "<table border=\"1\" class=\"dataframe\">\n",
       "  <thead>\n",
       "    <tr style=\"text-align: right;\">\n",
       "      <th></th>\n",
       "      <th>stars</th>\n",
       "      <th>text</th>\n",
       "    </tr>\n",
       "  </thead>\n",
       "  <tbody>\n",
       "    <tr>\n",
       "      <th>0</th>\n",
       "      <td>1.0</td>\n",
       "      <td>Total bill for this horrible service? Over $8G...</td>\n",
       "    </tr>\n",
       "    <tr>\n",
       "      <th>1</th>\n",
       "      <td>5.0</td>\n",
       "      <td>I *adore* Travis at the Hard Rock's new Kelly ...</td>\n",
       "    </tr>\n",
       "    <tr>\n",
       "      <th>2</th>\n",
       "      <td>5.0</td>\n",
       "      <td>I have to say that this office really has it t...</td>\n",
       "    </tr>\n",
       "    <tr>\n",
       "      <th>3</th>\n",
       "      <td>5.0</td>\n",
       "      <td>Went in for a lunch. Steak sandwich was delici...</td>\n",
       "    </tr>\n",
       "    <tr>\n",
       "      <th>4</th>\n",
       "      <td>1.0</td>\n",
       "      <td>Today was my second out of three sessions I ha...</td>\n",
       "    </tr>\n",
       "  </tbody>\n",
       "</table>\n",
       "</div>"
      ],
      "text/plain": [
       "   stars                                               text\n",
       "0    1.0  Total bill for this horrible service? Over $8G...\n",
       "1    5.0  I *adore* Travis at the Hard Rock's new Kelly ...\n",
       "2    5.0  I have to say that this office really has it t...\n",
       "3    5.0  Went in for a lunch. Steak sandwich was delici...\n",
       "4    1.0  Today was my second out of three sessions I ha..."
      ]
     },
     "execution_count": 4,
     "metadata": {},
     "output_type": "execute_result"
    }
   ],
   "source": [
    "df.head()"
   ]
  },
  {
   "cell_type": "markdown",
   "metadata": {},
   "source": [
    "## 1.2) EDA"
   ]
  },
  {
   "cell_type": "code",
   "execution_count": 5,
   "metadata": {},
   "outputs": [
    {
     "data": {
      "text/plain": [
       "<matplotlib.axes._subplots.AxesSubplot at 0x1c57fc91e10>"
      ]
     },
     "execution_count": 5,
     "metadata": {},
     "output_type": "execute_result"
    },
    {
     "data": {
      "image/png": "[encoded data removed]",
      "text/plain": [
       "<Figure size 432x288 with 1 Axes>"
      ]
     },
     "metadata": {
      "needs_background": "light"
     },
     "output_type": "display_data"
    }
   ],
   "source": [
    "# Distribution of the star ratings\n",
    "star_count = df['stars'].value_counts()\n",
    "star_count.reindex([1, 2, 3, 4, 5]).plot.bar()"
   ]
  },
  {
   "cell_type": "code",
   "execution_count": 6,
   "metadata": {},
   "outputs": [
    {
     "data": {
      "text/plain": [
       "'Total bill for this horrible service? Over $8Gs. These crooks actually had the nerve to charge us $69 for 3 pills. I checked online the pills can be had for 19 cents EACH! Avoid Hospital ERs at all costs.'"
      ]
     },
     "execution_count": 6,
     "metadata": {},
     "output_type": "execute_result"
    }
   ],
   "source": [
    "df['text'][0]"
   ]
  },
  {
   "cell_type": "code",
   "execution_count": 7,
   "metadata": {},
   "outputs": [
    {
     "data": {
      "text/plain": [
       "\"I *adore* Travis at the Hard Rock's new Kelly Cardenas Salon!  I'm always a fan of a great blowout and no stranger to the chains that offer this service; however, Travis has taken the flawless blowout to a whole new level!  \\n\\nTravis's greets you with his perfectly green swoosh in his otherwise perfectly styled black hair and a Vegas-worthy rockstar outfit.  Next comes the most relaxing and incredible shampoo -- where you get a full head message that could cure even the very worst migraine in minutes --- and the scented shampoo room.  Travis has freakishly strong fingers (in a good way) and use the perfect amount of pressure.  That was superb!  Then starts the glorious blowout... where not one, not two, but THREE people were involved in doing the best round-brush action my hair has ever seen.  The team of stylists clearly gets along extremely well, as it's evident from the way they talk to and help one another that it's really genuine and not some corporate requirement.  It was so much fun to be there! \\n\\nNext Travis started with the flat iron.  The way he flipped his wrist to get volume all around without over-doing it and making me look like a Texas pagent girl was admirable.  It's also worth noting that he didn't fry my hair -- something that I've had happen before with less skilled stylists.  At the end of the blowout & style my hair was perfectly bouncey and looked terrific.  The only thing better?  That this awesome blowout lasted for days! \\n\\nTravis, I will see you every single time I'm out in Vegas.  You make me feel beauuuutiful!\""
      ]
     },
     "execution_count": 7,
     "metadata": {},
     "output_type": "execute_result"
    }
   ],
   "source": [
    "df['text'][1]"
   ]
  },
  {
   "cell_type": "markdown",
   "metadata": {},
   "source": [
    "### 1.2.1) Increase the review quality"
   ]
  },
  {
   "cell_type": "code",
   "execution_count": 8,
   "metadata": {},
   "outputs": [],
   "source": [
    "# Lowercase all words in the reviews\n",
    "df['processed_text'] = df['text'].str.lower()"
   ]
  },
  {
   "cell_type": "code",
   "execution_count": 9,
   "metadata": {},
   "outputs": [],
   "source": [
    "# Tokenize the reviews\n",
    "# Simultaneously the punctation is removed\n",
    "tokenize = RegexpTokenizer('\\w+')\n",
    "df['processed_text'] = df['processed_text'].apply(lambda review : tokenize.tokenize(review))"
   ]
  },
  {
   "cell_type": "code",
   "execution_count": 10,
   "metadata": {},
   "outputs": [],
   "source": [
    "# Remove stopwords for the reviews\n",
    "stoplist = stopwords.words('english')\n",
    "df['processed_text'] = df['processed_text'].apply(lambda review: ' '.join([word for word in review if word not in stoplist]))"
   ]
  },
  {
   "cell_type": "code",
   "execution_count": 11,
   "metadata": {},
   "outputs": [
    {
     "data": {
      "text/plain": [
       "0    total bill horrible service 8gs crooks actuall...\n",
       "1    adore travis hard rock new kelly cardenas salo...\n",
       "2    say office really together organized friendly ...\n",
       "3    went lunch steak sandwich delicious caesar sal...\n",
       "4    today second three sessions paid although firs...\n",
       "Name: processed_text, dtype: object"
      ]
     },
     "execution_count": 11,
     "metadata": {},
     "output_type": "execute_result"
    }
   ],
   "source": [
    "df['processed_text'].head()"
   ]
  },
  {
   "cell_type": "code",
   "execution_count": 12,
   "metadata": {},
   "outputs": [],
   "source": [
    "# Stemming the words in the reviews\n",
    "stemmer = SnowballStemmer('english')\n",
    "df['processed_text'] = df['processed_text'].apply(lambda review: ' '.join([stemmer.stem(word) for word in review.split()]))"
   ]
  },
  {
   "cell_type": "code",
   "execution_count": 13,
   "metadata": {},
   "outputs": [
    {
     "name": "stdout",
     "output_type": "stream",
     "text": [
      "The max length of words in a review befor the preprocessing: 5000\n",
      "The max length of words in a review befor the preprocessing: 3789\n"
     ]
    }
   ],
   "source": [
    "print('The max length of words in a review befor the preprocessing:', max(df['text'].agg(len)))\n",
    "print('The max length of words in a review befor the preprocessing:', max(df['processed_text'].agg(len)))"
   ]
  },
  {
   "cell_type": "markdown",
   "metadata": {},
   "source": [
    "## 1.3) Analyse the reviews"
   ]
  },
  {
   "cell_type": "code",
   "execution_count": 14,
   "metadata": {},
   "outputs": [
    {
     "name": "stdout",
     "output_type": "stream",
     "text": [
      "Most common words:\n"
     ]
    },
    {
     "data": {
      "text/plain": [
       "[('place', 272724),\n",
       " ('food', 264131),\n",
       " ('good', 248978),\n",
       " ('time', 219238),\n",
       " ('great', 216520),\n",
       " ('get', 199139),\n",
       " ('like', 196982),\n",
       " ('go', 193532),\n",
       " ('servic', 188343),\n",
       " ('order', 173632)]"
      ]
     },
     "execution_count": 14,
     "metadata": {},
     "output_type": "execute_result"
    }
   ],
   "source": [
    "# 10 most common words\n",
    "counter_words = Counter(\" \".join(df['processed_text']).split())\n",
    "print('Most common words:')\n",
    "counter_words.most_common(10)"
   ]
  },
  {
   "cell_type": "code",
   "execution_count": 15,
   "metadata": {},
   "outputs": [
    {
     "name": "stdout",
     "output_type": "stream",
     "text": [
      "Least common words:\n"
     ]
    },
    {
     "data": {
      "text/plain": [
       "[('überflüssig', 1),\n",
       " ('geschirr', 1),\n",
       " ('abzuräumen', 1),\n",
       " ('nahrungsmittelbedarf', 1),\n",
       " ('gerechtfertigt', 1),\n",
       " ('mischkalkul', 1),\n",
       " ('eindeutig', 1),\n",
       " ('stagea', 1),\n",
       " ('strave', 1),\n",
       " ('horrinl', 1)]"
      ]
     },
     "execution_count": 15,
     "metadata": {},
     "output_type": "execute_result"
    }
   ],
   "source": [
    "# 10 least common words\n",
    "print('Least common words:')\n",
    "counter_words.most_common()[-10:]"
   ]
  },
  {
   "cell_type": "code",
   "execution_count": 16,
   "metadata": {},
   "outputs": [
    {
     "name": "stdout",
     "output_type": "stream",
     "text": [
      "The max length of words in a review befor the preprocessing: 5000\n",
      "The max length of words in a review after the preprocessing: 3789\n"
     ]
    }
   ],
   "source": [
    "print('The max length of words in a review befor the preprocessing:', max(df['text'].agg(len)))\n",
    "print('The max length of words in a review after the preprocessing:', max(df['processed_text'].agg(len)))"
   ]
  },
  {
   "cell_type": "code",
   "execution_count": 17,
   "metadata": {},
   "outputs": [
    {
     "name": "stdout",
     "output_type": "stream",
     "text": [
      "Number of different words in the review: 125703\n"
     ]
    }
   ],
   "source": [
    "# Total different words\n",
    "print('Number of different words in the review:', len(counter_words.most_common()))"
   ]
  },
  {
   "cell_type": "code",
   "execution_count": 18,
   "metadata": {},
   "outputs": [
    {
     "data": {
      "text/plain": [
       "('lifespan', 10)"
      ]
     },
     "execution_count": 18,
     "metadata": {},
     "output_type": "execute_result"
    }
   ],
   "source": [
    "# The last 100000 words are appearing very rearly\n",
    "counter_words.most_common()[-100000]"
   ]
  },
  {
   "cell_type": "code",
   "execution_count": 19,
   "metadata": {},
   "outputs": [
    {
     "data": {
      "text/plain": [
       "('lsd', 10)"
      ]
     },
     "execution_count": 19,
     "metadata": {},
     "output_type": "execute_result"
    }
   ],
   "source": [
    "counter_words.most_common()[25000]"
   ]
  },
  {
   "cell_type": "markdown",
   "metadata": {},
   "source": [
    "**Conclusion:** <br>\n",
    "Only use the 25.000 most common words for this investigation"
   ]
  },
  {
   "cell_type": "code",
   "execution_count": 20,
   "metadata": {},
   "outputs": [],
   "source": [
    "VOCAB_LEN = 25000"
   ]
  },
  {
   "cell_type": "markdown",
   "metadata": {},
   "source": [
    "## 1.4) Maximal length of the reviews"
   ]
  },
  {
   "cell_type": "code",
   "execution_count": 21,
   "metadata": {},
   "outputs": [
    {
     "data": {
      "image/png": "[encoded data removed]",
      "text/plain": [
       "<Figure size 432x288 with 1 Axes>"
      ]
     },
     "metadata": {
      "needs_background": "light"
     },
     "output_type": "display_data"
    },
    {
     "data": {
      "text/plain": [
       "count    500000.000000\n",
       "mean        323.477052\n",
       "std         297.801631\n",
       "min           0.000000\n",
       "25%         132.000000\n",
       "50%         231.000000\n",
       "75%         409.000000\n",
       "max        3789.000000\n",
       "dtype: float64"
      ]
     },
     "execution_count": 21,
     "metadata": {},
     "output_type": "execute_result"
    }
   ],
   "source": [
    "# Distribution of the number of words in a review\n",
    "reviews_len = [len(x) for x in df['processed_text']]\n",
    "pd.Series(reviews_len).hist()\n",
    "plt.title('Distribution of words')\n",
    "plt.show()\n",
    "pd.Series(reviews_len).describe()"
   ]
  },
  {
   "cell_type": "markdown",
   "metadata": {},
   "source": [
    "The histogram is showing, that the some reviews are written with 1000 and more words. For simplicity and reduction of complexity drop all reviews lower than the 10% quantile and greater than the 75% quantile."
   ]
  },
  {
   "cell_type": "code",
   "execution_count": 22,
   "metadata": {},
   "outputs": [],
   "source": [
    "lower_bountary = np.quantile(reviews_len, 0.10)\n",
    "upper_bountary = np.quantile(reviews_len, 0.75)\n",
    "index = np.argwhere((reviews_len > lower_bountary) & (reviews_len < upper_bountary))"
   ]
  },
  {
   "cell_type": "code",
   "execution_count": 23,
   "metadata": {},
   "outputs": [
    {
     "name": "stdout",
     "output_type": "stream",
     "text": [
      "Shape of df:        (500000, 3)\n",
      "Shape of df_reduce: (323876, 3)\n"
     ]
    }
   ],
   "source": [
    "# Delete to short and to long reviews\n",
    "df_reduce = df.loc[index.reshape(-1)]\n",
    "df_reduce = df_reduce.reset_index(drop=True)\n",
    "print('Shape of df:       ', df.shape)\n",
    "print('Shape of df_reduce:', df_reduce.shape)"
   ]
  },
  {
   "cell_type": "markdown",
   "metadata": {},
   "source": [
    "## 1.5) Relabel the 'star' rating"
   ]
  },
  {
   "cell_type": "code",
   "execution_count": 24,
   "metadata": {},
   "outputs": [],
   "source": [
    "# The value 1 indicates a positive review\n",
    "# The value 0 indicates a negative review\n",
    "df_reduce['stars_relabeled'] = [1 if x > 3 else 0 for x in df_reduce['stars']]"
   ]
  },
  {
   "cell_type": "code",
   "execution_count": 25,
   "metadata": {},
   "outputs": [
    {
     "data": {
      "text/plain": [
       "<matplotlib.axes._subplots.AxesSubplot at 0x1c55ea6b048>"
      ]
     },
     "execution_count": 25,
     "metadata": {},
     "output_type": "execute_result"
    },
    {
     "data": {
      "image/png": "[encoded data removed]",
      "text/plain": [
       "<Figure size 432x288 with 1 Axes>"
      ]
     },
     "metadata": {
      "needs_background": "light"
     },
     "output_type": "display_data"
    }
   ],
   "source": [
    "# Distribution of the relabeld star ratings\n",
    "star_relabeld_count = df_reduce['stars_relabeled'].value_counts()\n",
    "star_relabeld_count.reindex([0, 1]).plot.bar()"
   ]
  },
  {
   "cell_type": "markdown",
   "metadata": {},
   "source": [
    "## 1.6) Balance the dataset"
   ]
  },
  {
   "cell_type": "code",
   "execution_count": 26,
   "metadata": {},
   "outputs": [],
   "source": [
    "# Oversampling the negative reviews\n",
    "df_stars_1 = df_reduce[df_reduce['stars_relabeled']==1]\n",
    "df_stars_0 = df_reduce[df_reduce['stars_relabeled']==0].sample(star_relabeld_count[1], replace=True, random_state=42)\n",
    "df_balanced = pd.concat([df_stars_0, df_stars_1], axis=0)\n",
    "df_balanced = df_balanced.reset_index(drop=True)"
   ]
  },
  {
   "cell_type": "code",
   "execution_count": 27,
   "metadata": {
    "scrolled": true
   },
   "outputs": [
    {
     "data": {
      "text/plain": [
       "<matplotlib.axes._subplots.AxesSubplot at 0x1c5187049b0>"
      ]
     },
     "execution_count": 27,
     "metadata": {},
     "output_type": "execute_result"
    },
    {
     "data": {
      "image/png": "[encoded data removed]",
      "text/plain": [
       "<Figure size 432x288 with 1 Axes>"
      ]
     },
     "metadata": {
      "needs_background": "light"
     },
     "output_type": "display_data"
    }
   ],
   "source": [
    "# Distribution of the relabeld star ratings\n",
    "star_relabeld_balanced_count = df_balanced['stars_relabeled'].value_counts()\n",
    "star_relabeld_balanced_count.reindex([0, 1]).plot.bar()"
   ]
  },
  {
   "cell_type": "markdown",
   "metadata": {},
   "source": [
    "## 1.7) Padding and pruning the reviews "
   ]
  },
  {
   "cell_type": "markdown",
   "metadata": {},
   "source": [
    "For inputing the reviews in a neural network, all reviews have to be from equal length. Hence, pad to short reviews with 0 and prune to long reviews to the maximal length. At the same time the words are transformed to numbers."
   ]
  },
  {
   "cell_type": "code",
   "execution_count": 28,
   "metadata": {},
   "outputs": [],
   "source": [
    "SEQ_LEN = 100"
   ]
  },
  {
   "cell_type": "code",
   "execution_count": 29,
   "metadata": {},
   "outputs": [],
   "source": [
    "tokenizer = Tokenizer(num_words=VOCAB_LEN)\n",
    "tokenizer.fit_on_texts(df_balanced['processed_text'])"
   ]
  },
  {
   "cell_type": "code",
   "execution_count": 30,
   "metadata": {},
   "outputs": [],
   "source": [
    "sequences = tokenizer.texts_to_sequences(df_balanced['processed_text'])\n",
    "X = pad_sequences(sequences, maxlen=SEQ_LEN)\n",
    "target = df_balanced['stars_relabeled']"
   ]
  },
  {
   "cell_type": "code",
   "execution_count": 31,
   "metadata": {},
   "outputs": [
    {
     "data": {
      "text/plain": [
       "(446982, 100)"
      ]
     },
     "execution_count": 31,
     "metadata": {},
     "output_type": "execute_result"
    }
   ],
   "source": [
    "X.shape"
   ]
  },
  {
   "cell_type": "markdown",
   "metadata": {},
   "source": [
    "# 2) Train-, Validation-, Test-Set"
   ]
  },
  {
   "cell_type": "code",
   "execution_count": 32,
   "metadata": {},
   "outputs": [],
   "source": [
    "X_train, X_test, y_train, y_test = train_test_split(X , target, test_size=0.7, random_state=42)\n",
    "X_train, X_val, y_train, y_val = train_test_split(X_train, y_train, test_size=0.50, random_state=42)"
   ]
  },
  {
   "cell_type": "code",
   "execution_count": 33,
   "metadata": {},
   "outputs": [
    {
     "name": "stdout",
     "output_type": "stream",
     "text": [
      "Shape of X_train: (67047, 100)\n",
      "Shape of X_val:   (67047, 100)\n",
      "Shape of X_test:  (312888, 100)\n"
     ]
    }
   ],
   "source": [
    "print('Shape of X_train:', X_train.shape)\n",
    "print('Shape of X_val:  ', X_val.shape)\n",
    "print('Shape of X_test: ', X_test.shape)"
   ]
  },
  {
   "cell_type": "markdown",
   "metadata": {},
   "source": [
    "# 3) Building the model"
   ]
  },
  {
   "cell_type": "markdown",
   "metadata": {},
   "source": [
    "## 3.1) Neural Network (model 1)"
   ]
  },
  {
   "cell_type": "markdown",
   "metadata": {},
   "source": [
    "Building up a Neural Network with an Embedding Layer and an LSTM Layer."
   ]
  },
  {
   "cell_type": "code",
   "execution_count": 34,
   "metadata": {},
   "outputs": [],
   "source": [
    "EMB_DIM = 100"
   ]
  },
  {
   "cell_type": "code",
   "execution_count": 35,
   "metadata": {},
   "outputs": [
    {
     "name": "stdout",
     "output_type": "stream",
     "text": [
      "WARNING:tensorflow:From C:\\Users\\Florian\\Anaconda3\\lib\\site-packages\\tensorflow\\python\\framework\\op_def_library.py:263: colocate_with (from tensorflow.python.framework.ops) is deprecated and will be removed in a future version.\n",
      "Instructions for updating:\n",
      "Colocations handled automatically by placer.\n",
      "WARNING:tensorflow:From C:\\Users\\Florian\\Anaconda3\\lib\\site-packages\\keras\\backend\\tensorflow_backend.py:3445: calling dropout (from tensorflow.python.ops.nn_ops) with keep_prob is deprecated and will be removed in a future version.\n",
      "Instructions for updating:\n",
      "Please use `rate` instead of `keep_prob`. Rate should be set to `rate = 1 - keep_prob`.\n"
     ]
    }
   ],
   "source": [
    "model1 = Sequential()\n",
    "\n",
    "model1.add(Embedding(VOCAB_LEN, EMB_DIM, input_length=SEQ_LEN))\n",
    "model1.add(LSTM(units=EMB_DIM, dropout=0.4, recurrent_dropout=0.4))\n",
    "model1.add(Dense(1, activation='sigmoid'))"
   ]
  },
  {
   "cell_type": "code",
   "execution_count": 36,
   "metadata": {},
   "outputs": [],
   "source": [
    "model1.compile(optimizer='adam', loss='binary_crossentropy', metrics=['accuracy'])"
   ]
  },
  {
   "cell_type": "code",
   "execution_count": 37,
   "metadata": {},
   "outputs": [
    {
     "name": "stdout",
     "output_type": "stream",
     "text": [
      "_________________________________________________________________\n",
      "Layer (type)                 Output Shape              Param #   \n",
      "=================================================================\n",
      "embedding_1 (Embedding)      (None, 100, 100)          2500000   \n",
      "_________________________________________________________________\n",
      "lstm_1 (LSTM)                (None, 100)               80400     \n",
      "_________________________________________________________________\n",
      "dense_1 (Dense)              (None, 1)                 101       \n",
      "=================================================================\n",
      "Total params: 2,580,501\n",
      "Trainable params: 2,580,501\n",
      "Non-trainable params: 0\n",
      "_________________________________________________________________\n"
     ]
    }
   ],
   "source": [
    "model1.summary()"
   ]
  },
  {
   "cell_type": "code",
   "execution_count": 38,
   "metadata": {
    "scrolled": false
   },
   "outputs": [
    {
     "name": "stdout",
     "output_type": "stream",
     "text": [
      "WARNING:tensorflow:From C:\\Users\\Florian\\Anaconda3\\lib\\site-packages\\tensorflow\\python\\ops\\math_ops.py:3066: to_int32 (from tensorflow.python.ops.math_ops) is deprecated and will be removed in a future version.\n",
      "Instructions for updating:\n",
      "Use tf.cast instead.\n",
      "Train on 67047 samples, validate on 67047 samples\n",
      "Epoch 1/3\n",
      "67047/67047 [==============================] - 328s 5ms/step - loss: 0.3402 - acc: 0.8553 - val_loss: 0.2767 - val_acc: 0.8859\n",
      "Epoch 2/3\n",
      "67047/67047 [==============================] - 342s 5ms/step - loss: 0.2463 - acc: 0.9008 - val_loss: 0.2709 - val_acc: 0.8878\n",
      "Epoch 3/3\n",
      "67047/67047 [==============================] - 349s 5ms/step - loss: 0.2088 - acc: 0.9163 - val_loss: 0.2812 - val_acc: 0.8867\n"
     ]
    }
   ],
   "source": [
    "result_model1 = model1.fit(X_train, y_train, epochs=3, validation_data=(X_val, y_val))"
   ]
  },
  {
   "cell_type": "code",
   "execution_count": 47,
   "metadata": {},
   "outputs": [
    {
     "name": "stdout",
     "output_type": "stream",
     "text": [
      "67047/67047 [==============================] - 47s 707us/step\n",
      "67047/67047 [==============================] - 50s 748us/step\n",
      "312888/312888 [==============================] - 262s 838us/step\n",
      "The accuracy of the first neural network:\n",
      "Test Set:       0.940206124062225\n",
      "Validation Set: 0.8866914254197683\n",
      "Train Set:      0.8872983303929841\n"
     ]
    }
   ],
   "source": [
    "score_train_m1, accu_train_m1 = model1.evaluate(X_train, y_train)\n",
    "score_val_m1, accu_val_m1 = model1.evaluate(X_val, y_val)\n",
    "score_test_m1, accu_test_m1 = model1.evaluate(X_test, y_test)\n",
    "print('The accuracy of the first neural network:')\n",
    "print('Test Set:      ', accu_train_m1)\n",
    "print('Validation Set:', accu_val_m1)\n",
    "print('Train Set:     ', accu_test_m1)"
   ]
  },
  {
   "cell_type": "code",
   "execution_count": 40,
   "metadata": {},
   "outputs": [],
   "source": [
    "# Save the model\n",
    "filename = 'LSTM_model_1.h5'\n",
    "model1.save('../Models/Investigation_3/'+filename)"
   ]
  },
  {
   "cell_type": "markdown",
   "metadata": {},
   "source": [
    "# 4) Outlook"
   ]
  },
  {
   "cell_type": "markdown",
   "metadata": {},
   "source": [
    "To improve the sentiment analysis, the following suggestions are made:\n",
    "* Use pre-learned embedding (e.g. Glove)\n",
    "* Experiment with different neural network designs\n",
    "* ..."
   ]
  },
  {
   "cell_type": "code",
   "execution_count": null,
   "metadata": {},
   "outputs": [],
   "source": []
  }
 ],
 "metadata": {
  "kernelspec": {
   "display_name": "Python 3",
   "language": "python",
   "name": "python3"
  },
  "language_info": {
   "codemirror_mode": {
    "name": "ipython",
    "version": 3
   },
   "file_extension": ".py",
   "mimetype": "text/x-python",
   "name": "python",
   "nbconvert_exporter": "python",
   "pygments_lexer": "ipython3",
   "version": "3.7.0"
  }
 },
 "nbformat": 4,
 "nbformat_minor": 2
}
