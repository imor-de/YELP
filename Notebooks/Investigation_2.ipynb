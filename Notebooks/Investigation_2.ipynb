{
 "cells": [
  {
   "cell_type": "markdown",
   "metadata": {},
   "source": [
    "File name: Investigation_2.ipynb               \n",
    "Author: Florian Imorde                      \n",
    "Latest Update: 17.07.2019         "
   ]
  },
  {
   "cell_type": "code",
   "execution_count": 1,
   "metadata": {},
   "outputs": [
    {
     "name": "stderr",
     "output_type": "stream",
     "text": [
      "C:\\Users\\Florian\\Anaconda3\\lib\\site-packages\\sklearn\\ensemble\\weight_boosting.py:29: DeprecationWarning: numpy.core.umath_tests is an internal NumPy module and should not be imported. It will be removed in a future NumPy release.\n",
      "  from numpy.core.umath_tests import inner1d\n"
     ]
    }
   ],
   "source": [
    "import pandas as pd\n",
    "import numpy as np\n",
    "import matplotlib.pyplot as plt\n",
    "%matplotlib inline\n",
    "import collections\n",
    "from sklearn.preprocessing import MultiLabelBinarizer\n",
    "from sklearn.preprocessing import LabelEncoder\n",
    "from sklearn.model_selection import train_test_split\n",
    "from sklearn.ensemble import GradientBoostingClassifier\n",
    "from sklearn.model_selection import GridSearchCV\n",
    "from sklearn.metrics import confusion_matrix\n",
    "import pickle"
   ]
  },
  {
   "cell_type": "markdown",
   "metadata": {},
   "source": [
    "# 0) Task"
   ]
  },
  {
   "cell_type": "markdown",
   "metadata": {},
   "source": [
    "**Questions:**\n",
    "\n",
    "Each business in the YELP dataset is rated by the YELP community. Is it possible to rate a business based on its attributes equally? If so, this would gain insides into the market. Businesses can be optimize better to the wishes of their customers.\n",
    "\n",
    "**Approach:**\n",
    "\n",
    "Step 1: Preprocess all attributes <br>\n",
    "Step 2: Build up a Gradient Boosting Model <br>\n"
   ]
  },
  {
   "cell_type": "markdown",
   "metadata": {},
   "source": [
    "# 1) Preprocessing"
   ]
  },
  {
   "cell_type": "markdown",
   "metadata": {},
   "source": [
    "## 1.1) Load the data"
   ]
  },
  {
   "cell_type": "code",
   "execution_count": 2,
   "metadata": {},
   "outputs": [],
   "source": [
    "path_dataset_business = '../Data/yelp_dataset/business.json'\n",
    "path_dataset_checkin = '../data/yelp_dataset/checkin.json'\n",
    "df_business = pd.read_json(path_dataset_business, lines=True)\n",
    "df_checkin = pd.read_json(path_dataset_checkin, lines=True)"
   ]
  },
  {
   "cell_type": "code",
   "execution_count": 3,
   "metadata": {},
   "outputs": [],
   "source": [
    "# Add the total number of checkins\n",
    "df_checkin['checkin_sum'] = [len(x.split()) for x in df_checkin['date']]"
   ]
  },
  {
   "cell_type": "code",
   "execution_count": 4,
   "metadata": {},
   "outputs": [],
   "source": [
    "# Merge the 2 dataframes\n",
    "df = pd.merge(df_business, df_checkin, on='business_id')"
   ]
  },
  {
   "cell_type": "code",
   "execution_count": 5,
   "metadata": {},
   "outputs": [
    {
     "data": {
      "text/html": [
       "<div>\n",
       "<style scoped>\n",
       "    .dataframe tbody tr th:only-of-type {\n",
       "        vertical-align: middle;\n",
       "    }\n",
       "\n",
       "    .dataframe tbody tr th {\n",
       "        vertical-align: top;\n",
       "    }\n",
       "\n",
       "    .dataframe thead th {\n",
       "        text-align: right;\n",
       "    }\n",
       "</style>\n",
       "<table border=\"1\" class=\"dataframe\">\n",
       "  <thead>\n",
       "    <tr style=\"text-align: right;\">\n",
       "      <th></th>\n",
       "      <th>address</th>\n",
       "      <th>attributes</th>\n",
       "      <th>business_id</th>\n",
       "      <th>categories</th>\n",
       "      <th>city</th>\n",
       "      <th>hours</th>\n",
       "      <th>is_open</th>\n",
       "      <th>latitude</th>\n",
       "      <th>longitude</th>\n",
       "      <th>name</th>\n",
       "      <th>postal_code</th>\n",
       "      <th>review_count</th>\n",
       "      <th>stars</th>\n",
       "      <th>state</th>\n",
       "      <th>date</th>\n",
       "      <th>checkin_sum</th>\n",
       "    </tr>\n",
       "  </thead>\n",
       "  <tbody>\n",
       "    <tr>\n",
       "      <th>0</th>\n",
       "      <td>2818 E Camino Acequia Drive</td>\n",
       "      <td>{'GoodForKids': 'False'}</td>\n",
       "      <td>1SWheh84yJXfytovILXOAQ</td>\n",
       "      <td>Golf, Active Life</td>\n",
       "      <td>Phoenix</td>\n",
       "      <td>None</td>\n",
       "      <td>0</td>\n",
       "      <td>33.522143</td>\n",
       "      <td>-112.018481</td>\n",
       "      <td>Arizona Biltmore Golf Club</td>\n",
       "      <td>85016</td>\n",
       "      <td>5</td>\n",
       "      <td>3.0</td>\n",
       "      <td>AZ</td>\n",
       "      <td>2012-06-16 14:53:33, 2013-05-19 16:52:24, 2013...</td>\n",
       "      <td>40</td>\n",
       "    </tr>\n",
       "    <tr>\n",
       "      <th>1</th>\n",
       "      <td>30 Eglinton Avenue W</td>\n",
       "      <td>{'RestaurantsReservations': 'True', 'GoodForMe...</td>\n",
       "      <td>QXAEGFB4oINsVuTFxEYKFQ</td>\n",
       "      <td>Specialty Food, Restaurants, Dim Sum, Imported...</td>\n",
       "      <td>Mississauga</td>\n",
       "      <td>{'Monday': '9:0-0:0', 'Tuesday': '9:0-0:0', 'W...</td>\n",
       "      <td>1</td>\n",
       "      <td>43.605499</td>\n",
       "      <td>-79.652289</td>\n",
       "      <td>Emerald Chinese Restaurant</td>\n",
       "      <td>L5R 3E7</td>\n",
       "      <td>128</td>\n",
       "      <td>2.5</td>\n",
       "      <td>ON</td>\n",
       "      <td>2010-07-05 16:56:31, 2010-12-21 20:30:01, 2010...</td>\n",
       "      <td>910</td>\n",
       "    </tr>\n",
       "    <tr>\n",
       "      <th>2</th>\n",
       "      <td>10110 Johnston Rd, Ste 15</td>\n",
       "      <td>{'GoodForKids': 'True', 'NoiseLevel': 'u'avera...</td>\n",
       "      <td>gnKjwL_1w79qoiV3IC_xQQ</td>\n",
       "      <td>Sushi Bars, Restaurants, Japanese</td>\n",
       "      <td>Charlotte</td>\n",
       "      <td>{'Monday': '17:30-21:30', 'Wednesday': '17:30-...</td>\n",
       "      <td>1</td>\n",
       "      <td>35.092564</td>\n",
       "      <td>-80.859132</td>\n",
       "      <td>Musashi Japanese Restaurant</td>\n",
       "      <td>28210</td>\n",
       "      <td>170</td>\n",
       "      <td>4.0</td>\n",
       "      <td>NC</td>\n",
       "      <td>2010-11-13 01:00:36, 2010-12-19 00:49:15, 2011...</td>\n",
       "      <td>1442</td>\n",
       "    </tr>\n",
       "    <tr>\n",
       "      <th>3</th>\n",
       "      <td>15655 W Roosevelt St, Ste 237</td>\n",
       "      <td>None</td>\n",
       "      <td>xvX2CttrVhyG2z1dFg_0xw</td>\n",
       "      <td>Insurance, Financial Services</td>\n",
       "      <td>Goodyear</td>\n",
       "      <td>{'Monday': '8:0-17:0', 'Tuesday': '8:0-17:0', ...</td>\n",
       "      <td>1</td>\n",
       "      <td>33.455613</td>\n",
       "      <td>-112.395596</td>\n",
       "      <td>Farmers Insurance - Paul Lorenz</td>\n",
       "      <td>85338</td>\n",
       "      <td>3</td>\n",
       "      <td>5.0</td>\n",
       "      <td>AZ</td>\n",
       "      <td>2012-10-29 22:36:50, 2015-02-18 23:51:55, 2015...</td>\n",
       "      <td>22</td>\n",
       "    </tr>\n",
       "    <tr>\n",
       "      <th>4</th>\n",
       "      <td>Credit Valley Town Plaza, F2 - 6045 Creditview Rd</td>\n",
       "      <td>{'BusinessParking': '{'garage': False, 'street...</td>\n",
       "      <td>68dUKd8_8liJ7in4aWOSEA</td>\n",
       "      <td>Shipping Centers, Couriers &amp; Delivery Services...</td>\n",
       "      <td>Mississauga</td>\n",
       "      <td>{'Monday': '9:0-19:0', 'Tuesday': '9:0-20:0', ...</td>\n",
       "      <td>1</td>\n",
       "      <td>43.599475</td>\n",
       "      <td>-79.711584</td>\n",
       "      <td>The UPS Store</td>\n",
       "      <td>L5V 0B1</td>\n",
       "      <td>3</td>\n",
       "      <td>2.5</td>\n",
       "      <td>ON</td>\n",
       "      <td>2014-03-31 21:46:17, 2015-01-27 19:05:03, 2018...</td>\n",
       "      <td>6</td>\n",
       "    </tr>\n",
       "  </tbody>\n",
       "</table>\n",
       "</div>"
      ],
      "text/plain": [
       "                                             address  \\\n",
       "0                        2818 E Camino Acequia Drive   \n",
       "1                               30 Eglinton Avenue W   \n",
       "2                          10110 Johnston Rd, Ste 15   \n",
       "3                      15655 W Roosevelt St, Ste 237   \n",
       "4  Credit Valley Town Plaza, F2 - 6045 Creditview Rd   \n",
       "\n",
       "                                          attributes             business_id  \\\n",
       "0                           {'GoodForKids': 'False'}  1SWheh84yJXfytovILXOAQ   \n",
       "1  {'RestaurantsReservations': 'True', 'GoodForMe...  QXAEGFB4oINsVuTFxEYKFQ   \n",
       "2  {'GoodForKids': 'True', 'NoiseLevel': 'u'avera...  gnKjwL_1w79qoiV3IC_xQQ   \n",
       "3                                               None  xvX2CttrVhyG2z1dFg_0xw   \n",
       "4  {'BusinessParking': '{'garage': False, 'street...  68dUKd8_8liJ7in4aWOSEA   \n",
       "\n",
       "                                          categories         city  \\\n",
       "0                                  Golf, Active Life      Phoenix   \n",
       "1  Specialty Food, Restaurants, Dim Sum, Imported...  Mississauga   \n",
       "2                  Sushi Bars, Restaurants, Japanese    Charlotte   \n",
       "3                      Insurance, Financial Services     Goodyear   \n",
       "4  Shipping Centers, Couriers & Delivery Services...  Mississauga   \n",
       "\n",
       "                                               hours  is_open   latitude  \\\n",
       "0                                               None        0  33.522143   \n",
       "1  {'Monday': '9:0-0:0', 'Tuesday': '9:0-0:0', 'W...        1  43.605499   \n",
       "2  {'Monday': '17:30-21:30', 'Wednesday': '17:30-...        1  35.092564   \n",
       "3  {'Monday': '8:0-17:0', 'Tuesday': '8:0-17:0', ...        1  33.455613   \n",
       "4  {'Monday': '9:0-19:0', 'Tuesday': '9:0-20:0', ...        1  43.599475   \n",
       "\n",
       "    longitude                             name postal_code  review_count  \\\n",
       "0 -112.018481       Arizona Biltmore Golf Club       85016             5   \n",
       "1  -79.652289       Emerald Chinese Restaurant     L5R 3E7           128   \n",
       "2  -80.859132      Musashi Japanese Restaurant       28210           170   \n",
       "3 -112.395596  Farmers Insurance - Paul Lorenz       85338             3   \n",
       "4  -79.711584                    The UPS Store     L5V 0B1             3   \n",
       "\n",
       "   stars state                                               date  checkin_sum  \n",
       "0    3.0    AZ  2012-06-16 14:53:33, 2013-05-19 16:52:24, 2013...           40  \n",
       "1    2.5    ON  2010-07-05 16:56:31, 2010-12-21 20:30:01, 2010...          910  \n",
       "2    4.0    NC  2010-11-13 01:00:36, 2010-12-19 00:49:15, 2011...         1442  \n",
       "3    5.0    AZ  2012-10-29 22:36:50, 2015-02-18 23:51:55, 2015...           22  \n",
       "4    2.5    ON  2014-03-31 21:46:17, 2015-01-27 19:05:03, 2018...            6  "
      ]
     },
     "execution_count": 5,
     "metadata": {},
     "output_type": "execute_result"
    }
   ],
   "source": [
    "df.head()"
   ]
  },
  {
   "cell_type": "markdown",
   "metadata": {},
   "source": [
    "## 1.2) EDA + Preprocessing"
   ]
  },
  {
   "cell_type": "markdown",
   "metadata": {},
   "source": [
    "Potential features for this investigition could be:\n",
    "    * 'attributes'\n",
    "    * 'categories'\n",
    "    * 'review_count'\n",
    "    * 'state'\n",
    "    * 'checkin_sum'\n",
    "    \n",
    "The target for this investigation is *'stars'*"
   ]
  },
  {
   "cell_type": "code",
   "execution_count": 6,
   "metadata": {},
   "outputs": [],
   "source": [
    "# Drop the columns, which are not importend for the further investigation\n",
    "df = df.drop(columns=['address', 'business_id', 'city', 'hours', 'is_open', 'latitude', 'longitude', 'name', 'postal_code', 'date'])"
   ]
  },
  {
   "cell_type": "code",
   "execution_count": 7,
   "metadata": {},
   "outputs": [
    {
     "data": {
      "text/plain": [
       "attributes      17731\n",
       "categories        221\n",
       "review_count        0\n",
       "stars               0\n",
       "state               0\n",
       "checkin_sum         0\n",
       "dtype: int64"
      ]
     },
     "execution_count": 7,
     "metadata": {},
     "output_type": "execute_result"
    }
   ],
   "source": [
    "# Does the dataset contain null values?\n",
    "df.isnull().sum()"
   ]
  },
  {
   "cell_type": "code",
   "execution_count": 8,
   "metadata": {},
   "outputs": [],
   "source": [
    "# Delete null values\n",
    "df = df.dropna()\n",
    "df = df.reset_index(drop=True)"
   ]
  },
  {
   "cell_type": "markdown",
   "metadata": {},
   "source": [
    "### 1.2.1) Feature: 'attributes'"
   ]
  },
  {
   "cell_type": "code",
   "execution_count": 9,
   "metadata": {},
   "outputs": [
    {
     "data": {
      "text/plain": [
       "0                             {'GoodForKids': 'False'}\n",
       "1    {'RestaurantsReservations': 'True', 'GoodForMe...\n",
       "2    {'GoodForKids': 'True', 'NoiseLevel': 'u'avera...\n",
       "3    {'BusinessParking': '{'garage': False, 'street...\n",
       "4    {'RestaurantsPriceRange2': '2', 'BusinessParki...\n",
       "Name: attributes, dtype: object"
      ]
     },
     "execution_count": 9,
     "metadata": {},
     "output_type": "execute_result"
    }
   ],
   "source": [
    "df['attributes'].head()"
   ]
  },
  {
   "cell_type": "markdown",
   "metadata": {},
   "source": [
    "The column 'attributes' contains dictionaries with different values. To use these feature, the dictionaries have to be extracted:"
   ]
  },
  {
   "cell_type": "code",
   "execution_count": 10,
   "metadata": {},
   "outputs": [],
   "source": [
    "# Flatten all keys for the analysis of this feature\n",
    "flattened_list_attributes = []\n",
    "for x in df['attributes']:\n",
    "    for y in x.keys():\n",
    "        flattened_list_attributes.append(y)"
   ]
  },
  {
   "cell_type": "code",
   "execution_count": 11,
   "metadata": {},
   "outputs": [
    {
     "name": "stdout",
     "output_type": "stream",
     "text": [
      "Most common keys:\n"
     ]
    },
    {
     "data": {
      "text/plain": [
       "[('RestaurantsPriceRange2', 103445),\n",
       " ('BusinessParking', 99013),\n",
       " ('BusinessAcceptsCreditCards', 98508),\n",
       " ('BikeParking', 82482),\n",
       " ('GoodForKids', 64586),\n",
       " ('RestaurantsTakeOut', 60998),\n",
       " ('OutdoorSeating', 53865),\n",
       " ('RestaurantsGoodForGroups', 53809),\n",
       " ('RestaurantsReservations', 51476),\n",
       " ('RestaurantsDelivery', 51427)]"
      ]
     },
     "execution_count": 11,
     "metadata": {},
     "output_type": "execute_result"
    }
   ],
   "source": [
    "# 10 most common attributes\n",
    "counter_attributes = collections.Counter(flattened_list_attributes)\n",
    "print('Most common keys:')\n",
    "counter_attributes.most_common(10)"
   ]
  },
  {
   "cell_type": "code",
   "execution_count": 12,
   "metadata": {},
   "outputs": [
    {
     "name": "stdout",
     "output_type": "stream",
     "text": [
      "Least common keys:\n"
     ]
    },
    {
     "data": {
      "text/plain": [
       "[('WiFi', 49533),\n",
       " ('Ambience', 47837),\n",
       " ('RestaurantsAttire', 47768),\n",
       " ('HasTV', 47744),\n",
       " ('Alcohol', 47655),\n",
       " ('NoiseLevel', 43554),\n",
       " ('Caters', 40277),\n",
       " ('ByAppointmentOnly', 36979),\n",
       " ('GoodForMeal', 29824),\n",
       " ('WheelchairAccessible', 18113)]"
      ]
     },
     "execution_count": 12,
     "metadata": {},
     "output_type": "execute_result"
    }
   ],
   "source": [
    "# 10 least common attributes\n",
    "print('Least common keys:')\n",
    "counter_attributes.most_common(20)[-10:]"
   ]
  },
  {
   "cell_type": "code",
   "execution_count": 13,
   "metadata": {},
   "outputs": [
    {
     "name": "stdout",
     "output_type": "stream",
     "text": [
      "Number of attributes: 39\n"
     ]
    }
   ],
   "source": [
    "# Number of attributes\n",
    "print('Number of attributes:', len(counter_attributes.most_common()))"
   ]
  },
  {
   "cell_type": "code",
   "execution_count": 14,
   "metadata": {},
   "outputs": [],
   "source": [
    "# Extract the dictionaries and build new columns with each key\n",
    "df_attributes = pd.DataFrame((d for idx, d in df['attributes'].iteritems()))#.fillna(0)\n",
    "df_attributes = df_attributes.drop(columns = ['Ambience'])"
   ]
  },
  {
   "cell_type": "code",
   "execution_count": 15,
   "metadata": {},
   "outputs": [],
   "source": [
    "# Labelencode the dataframe\n",
    "df_encoder = pd.DataFrame(columns={'column_name', 'encoder'}) # DataFrame to store each Encoder for every column\n",
    "for column_name in df_attributes.columns:\n",
    "    le = LabelEncoder()\n",
    "    le.fit(df_attributes[column_name].astype(str))\n",
    "    df_attributes[column_name] = le.transform(df_attributes[column_name].astype(str)) \n",
    "    df_encoder = df_encoder.append({'column_name':column_name, 'encoder':le}, ignore_index=True)"
   ]
  },
  {
   "cell_type": "code",
   "execution_count": 16,
   "metadata": {},
   "outputs": [],
   "source": [
    "# Combine the dataframe df with the dataframe df_attributes\n",
    "df = df.join(df_attributes)\n",
    "# The column 'attributes' is not longer needed\n",
    "df = df.drop(columns=['attributes'])"
   ]
  },
  {
   "cell_type": "code",
   "execution_count": 17,
   "metadata": {},
   "outputs": [
    {
     "data": {
      "text/html": [
       "<div>\n",
       "<style scoped>\n",
       "    .dataframe tbody tr th:only-of-type {\n",
       "        vertical-align: middle;\n",
       "    }\n",
       "\n",
       "    .dataframe tbody tr th {\n",
       "        vertical-align: top;\n",
       "    }\n",
       "\n",
       "    .dataframe thead th {\n",
       "        text-align: right;\n",
       "    }\n",
       "</style>\n",
       "<table border=\"1\" class=\"dataframe\">\n",
       "  <thead>\n",
       "    <tr style=\"text-align: right;\">\n",
       "      <th></th>\n",
       "      <th>categories</th>\n",
       "      <th>review_count</th>\n",
       "      <th>stars</th>\n",
       "      <th>state</th>\n",
       "      <th>checkin_sum</th>\n",
       "      <th>AcceptsInsurance</th>\n",
       "      <th>AgesAllowed</th>\n",
       "      <th>Alcohol</th>\n",
       "      <th>BYOB</th>\n",
       "      <th>BYOBCorkage</th>\n",
       "      <th>...</th>\n",
       "      <th>RestaurantsCounterService</th>\n",
       "      <th>RestaurantsDelivery</th>\n",
       "      <th>RestaurantsGoodForGroups</th>\n",
       "      <th>RestaurantsPriceRange2</th>\n",
       "      <th>RestaurantsReservations</th>\n",
       "      <th>RestaurantsTableService</th>\n",
       "      <th>RestaurantsTakeOut</th>\n",
       "      <th>Smoking</th>\n",
       "      <th>WheelchairAccessible</th>\n",
       "      <th>WiFi</th>\n",
       "    </tr>\n",
       "  </thead>\n",
       "  <tbody>\n",
       "    <tr>\n",
       "      <th>0</th>\n",
       "      <td>Golf, Active Life</td>\n",
       "      <td>5</td>\n",
       "      <td>3.0</td>\n",
       "      <td>AZ</td>\n",
       "      <td>40</td>\n",
       "      <td>3</td>\n",
       "      <td>1</td>\n",
       "      <td>4</td>\n",
       "      <td>2</td>\n",
       "      <td>4</td>\n",
       "      <td>...</td>\n",
       "      <td>2</td>\n",
       "      <td>3</td>\n",
       "      <td>3</td>\n",
       "      <td>5</td>\n",
       "      <td>3</td>\n",
       "      <td>3</td>\n",
       "      <td>3</td>\n",
       "      <td>4</td>\n",
       "      <td>3</td>\n",
       "      <td>4</td>\n",
       "    </tr>\n",
       "    <tr>\n",
       "      <th>1</th>\n",
       "      <td>Specialty Food, Restaurants, Dim Sum, Imported...</td>\n",
       "      <td>128</td>\n",
       "      <td>2.5</td>\n",
       "      <td>ON</td>\n",
       "      <td>910</td>\n",
       "      <td>3</td>\n",
       "      <td>1</td>\n",
       "      <td>6</td>\n",
       "      <td>2</td>\n",
       "      <td>4</td>\n",
       "      <td>...</td>\n",
       "      <td>2</td>\n",
       "      <td>0</td>\n",
       "      <td>2</td>\n",
       "      <td>1</td>\n",
       "      <td>2</td>\n",
       "      <td>2</td>\n",
       "      <td>2</td>\n",
       "      <td>4</td>\n",
       "      <td>3</td>\n",
       "      <td>6</td>\n",
       "    </tr>\n",
       "    <tr>\n",
       "      <th>2</th>\n",
       "      <td>Sushi Bars, Restaurants, Japanese</td>\n",
       "      <td>170</td>\n",
       "      <td>4.0</td>\n",
       "      <td>NC</td>\n",
       "      <td>1442</td>\n",
       "      <td>3</td>\n",
       "      <td>1</td>\n",
       "      <td>5</td>\n",
       "      <td>2</td>\n",
       "      <td>4</td>\n",
       "      <td>...</td>\n",
       "      <td>2</td>\n",
       "      <td>0</td>\n",
       "      <td>2</td>\n",
       "      <td>1</td>\n",
       "      <td>2</td>\n",
       "      <td>2</td>\n",
       "      <td>2</td>\n",
       "      <td>4</td>\n",
       "      <td>3</td>\n",
       "      <td>6</td>\n",
       "    </tr>\n",
       "    <tr>\n",
       "      <th>3</th>\n",
       "      <td>Shipping Centers, Couriers &amp; Delivery Services...</td>\n",
       "      <td>3</td>\n",
       "      <td>2.5</td>\n",
       "      <td>ON</td>\n",
       "      <td>6</td>\n",
       "      <td>3</td>\n",
       "      <td>1</td>\n",
       "      <td>4</td>\n",
       "      <td>2</td>\n",
       "      <td>4</td>\n",
       "      <td>...</td>\n",
       "      <td>2</td>\n",
       "      <td>3</td>\n",
       "      <td>3</td>\n",
       "      <td>1</td>\n",
       "      <td>3</td>\n",
       "      <td>3</td>\n",
       "      <td>3</td>\n",
       "      <td>4</td>\n",
       "      <td>3</td>\n",
       "      <td>4</td>\n",
       "    </tr>\n",
       "    <tr>\n",
       "      <th>4</th>\n",
       "      <td>Beauty &amp; Spas, Hair Salons</td>\n",
       "      <td>7</td>\n",
       "      <td>3.5</td>\n",
       "      <td>AB</td>\n",
       "      <td>2</td>\n",
       "      <td>3</td>\n",
       "      <td>1</td>\n",
       "      <td>4</td>\n",
       "      <td>2</td>\n",
       "      <td>4</td>\n",
       "      <td>...</td>\n",
       "      <td>2</td>\n",
       "      <td>3</td>\n",
       "      <td>3</td>\n",
       "      <td>1</td>\n",
       "      <td>3</td>\n",
       "      <td>3</td>\n",
       "      <td>3</td>\n",
       "      <td>4</td>\n",
       "      <td>3</td>\n",
       "      <td>4</td>\n",
       "    </tr>\n",
       "  </tbody>\n",
       "</table>\n",
       "<p>5 rows × 43 columns</p>\n",
       "</div>"
      ],
      "text/plain": [
       "                                          categories  review_count  stars  \\\n",
       "0                                  Golf, Active Life             5    3.0   \n",
       "1  Specialty Food, Restaurants, Dim Sum, Imported...           128    2.5   \n",
       "2                  Sushi Bars, Restaurants, Japanese           170    4.0   \n",
       "3  Shipping Centers, Couriers & Delivery Services...             3    2.5   \n",
       "4                         Beauty & Spas, Hair Salons             7    3.5   \n",
       "\n",
       "  state  checkin_sum  AcceptsInsurance  AgesAllowed  Alcohol  BYOB  \\\n",
       "0    AZ           40                 3            1        4     2   \n",
       "1    ON          910                 3            1        6     2   \n",
       "2    NC         1442                 3            1        5     2   \n",
       "3    ON            6                 3            1        4     2   \n",
       "4    AB            2                 3            1        4     2   \n",
       "\n",
       "   BYOBCorkage  ...   RestaurantsCounterService  RestaurantsDelivery  \\\n",
       "0            4  ...                           2                    3   \n",
       "1            4  ...                           2                    0   \n",
       "2            4  ...                           2                    0   \n",
       "3            4  ...                           2                    3   \n",
       "4            4  ...                           2                    3   \n",
       "\n",
       "   RestaurantsGoodForGroups  RestaurantsPriceRange2  RestaurantsReservations  \\\n",
       "0                         3                       5                        3   \n",
       "1                         2                       1                        2   \n",
       "2                         2                       1                        2   \n",
       "3                         3                       1                        3   \n",
       "4                         3                       1                        3   \n",
       "\n",
       "   RestaurantsTableService  RestaurantsTakeOut  Smoking  WheelchairAccessible  \\\n",
       "0                        3                   3        4                     3   \n",
       "1                        2                   2        4                     3   \n",
       "2                        2                   2        4                     3   \n",
       "3                        3                   3        4                     3   \n",
       "4                        3                   3        4                     3   \n",
       "\n",
       "   WiFi  \n",
       "0     4  \n",
       "1     6  \n",
       "2     6  \n",
       "3     4  \n",
       "4     4  \n",
       "\n",
       "[5 rows x 43 columns]"
      ]
     },
     "execution_count": 17,
     "metadata": {},
     "output_type": "execute_result"
    }
   ],
   "source": [
    "df.head()"
   ]
  },
  {
   "cell_type": "markdown",
   "metadata": {},
   "source": [
    "### 1.2.2) Feature: 'categories'"
   ]
  },
  {
   "cell_type": "code",
   "execution_count": 18,
   "metadata": {},
   "outputs": [
    {
     "data": {
      "text/plain": [
       "0                                    Golf, Active Life\n",
       "1    Specialty Food, Restaurants, Dim Sum, Imported...\n",
       "2                    Sushi Bars, Restaurants, Japanese\n",
       "3    Shipping Centers, Couriers & Delivery Services...\n",
       "4                           Beauty & Spas, Hair Salons\n",
       "Name: categories, dtype: object"
      ]
     },
     "execution_count": 18,
     "metadata": {},
     "output_type": "execute_result"
    }
   ],
   "source": [
    "df['categories'].head()"
   ]
  },
  {
   "cell_type": "markdown",
   "metadata": {},
   "source": [
    "Multiple categories are connected to one business. To \n",
    "The column 'categories' contains a string with multiple categories. To use these feature, the strings have to be split and preprocessed:"
   ]
  },
  {
   "cell_type": "code",
   "execution_count": 19,
   "metadata": {},
   "outputs": [],
   "source": [
    "# Split the values into single values\n",
    "df['categories_split'] = df['categories'].str.split(', ')"
   ]
  },
  {
   "cell_type": "code",
   "execution_count": 20,
   "metadata": {},
   "outputs": [],
   "source": [
    "# Flatten all categories for the analysis of this feature\n",
    "flattened_list_categories = []\n",
    "\n",
    "for x in df['categories_split']:\n",
    "    for y in x:\n",
    "        flattened_list_categories.append(y)"
   ]
  },
  {
   "cell_type": "code",
   "execution_count": 21,
   "metadata": {},
   "outputs": [
    {
     "name": "stdout",
     "output_type": "stream",
     "text": [
      "Most common keys:\n"
     ]
    },
    {
     "data": {
      "text/plain": [
       "[('Restaurants', 55702),\n",
       " ('Food', 27997),\n",
       " ('Shopping', 26156),\n",
       " ('Beauty & Spas', 15975),\n",
       " ('Health & Medical', 13137),\n",
       " ('Nightlife', 12411),\n",
       " ('Bars', 10879),\n",
       " ('Home Services', 8575),\n",
       " ('Local Services', 8171),\n",
       " ('Event Planning & Services', 8157)]"
      ]
     },
     "execution_count": 21,
     "metadata": {},
     "output_type": "execute_result"
    }
   ],
   "source": [
    "# 10 most common attributes\n",
    "counter_categories = collections.Counter(flattened_list_categories)\n",
    "print('Most common keys:')\n",
    "counter_categories.most_common(10)"
   ]
  },
  {
   "cell_type": "code",
   "execution_count": 22,
   "metadata": {},
   "outputs": [
    {
     "name": "stdout",
     "output_type": "stream",
     "text": [
      "Least common keys:\n"
     ]
    },
    {
     "data": {
      "text/plain": [
       "[('Active Life', 8046),\n",
       " ('Automotive', 7585),\n",
       " ('Coffee & Tea', 7004),\n",
       " ('Sandwiches', 6996),\n",
       " ('Fast Food', 6902),\n",
       " ('Fashion', 6886),\n",
       " ('American (Traditional)', 6847),\n",
       " ('Pizza', 6251),\n",
       " ('Hair Salons', 5660),\n",
       " ('Arts & Entertainment', 5571)]"
      ]
     },
     "execution_count": 22,
     "metadata": {},
     "output_type": "execute_result"
    }
   ],
   "source": [
    "# 10 least common attributes\n",
    "print('Least common keys:')\n",
    "counter_categories.most_common(20)[-10:]"
   ]
  },
  {
   "cell_type": "code",
   "execution_count": 23,
   "metadata": {},
   "outputs": [
    {
     "name": "stdout",
     "output_type": "stream",
     "text": [
      "Number of categories: 1271\n"
     ]
    }
   ],
   "source": [
    "# Number of categories\n",
    "print('Number of categories:', len(counter_categories.most_common()))"
   ]
  },
  {
   "cell_type": "code",
   "execution_count": 24,
   "metadata": {},
   "outputs": [],
   "source": [
    "# Create for every category a new column and label the data of df['category'] inside\n",
    "mlb = MultiLabelBinarizer()\n",
    "df_category = pd.DataFrame(mlb.fit_transform(df.pop('categories_split')), columns=mlb.classes_, index=df.index)"
   ]
  },
  {
   "cell_type": "code",
   "execution_count": 25,
   "metadata": {},
   "outputs": [],
   "source": [
    "# Combine the dataframe df with the dataframe df_attributes\n",
    "df = df.join(df_category)\n",
    "# The column 'attributes' is not longer needed\n",
    "df = df.drop(columns=['categories'])"
   ]
  },
  {
   "cell_type": "code",
   "execution_count": 26,
   "metadata": {},
   "outputs": [
    {
     "data": {
      "text/html": [
       "<div>\n",
       "<style scoped>\n",
       "    .dataframe tbody tr th:only-of-type {\n",
       "        vertical-align: middle;\n",
       "    }\n",
       "\n",
       "    .dataframe tbody tr th {\n",
       "        vertical-align: top;\n",
       "    }\n",
       "\n",
       "    .dataframe thead th {\n",
       "        text-align: right;\n",
       "    }\n",
       "</style>\n",
       "<table border=\"1\" class=\"dataframe\">\n",
       "  <thead>\n",
       "    <tr style=\"text-align: right;\">\n",
       "      <th></th>\n",
       "      <th>review_count</th>\n",
       "      <th>stars</th>\n",
       "      <th>state</th>\n",
       "      <th>checkin_sum</th>\n",
       "      <th>AcceptsInsurance</th>\n",
       "      <th>AgesAllowed</th>\n",
       "      <th>Alcohol</th>\n",
       "      <th>BYOB</th>\n",
       "      <th>BYOBCorkage</th>\n",
       "      <th>BestNights</th>\n",
       "      <th>...</th>\n",
       "      <th>Wine Tasting Classes</th>\n",
       "      <th>Wine Tasting Room</th>\n",
       "      <th>Wine Tours</th>\n",
       "      <th>Wineries</th>\n",
       "      <th>Women's Clothing</th>\n",
       "      <th>Wraps</th>\n",
       "      <th>Yelp Events</th>\n",
       "      <th>Yoga</th>\n",
       "      <th>Ziplining</th>\n",
       "      <th>Zoos</th>\n",
       "    </tr>\n",
       "  </thead>\n",
       "  <tbody>\n",
       "    <tr>\n",
       "      <th>0</th>\n",
       "      <td>5</td>\n",
       "      <td>3.0</td>\n",
       "      <td>AZ</td>\n",
       "      <td>40</td>\n",
       "      <td>3</td>\n",
       "      <td>1</td>\n",
       "      <td>4</td>\n",
       "      <td>2</td>\n",
       "      <td>4</td>\n",
       "      <td>1</td>\n",
       "      <td>...</td>\n",
       "      <td>0</td>\n",
       "      <td>0</td>\n",
       "      <td>0</td>\n",
       "      <td>0</td>\n",
       "      <td>0</td>\n",
       "      <td>0</td>\n",
       "      <td>0</td>\n",
       "      <td>0</td>\n",
       "      <td>0</td>\n",
       "      <td>0</td>\n",
       "    </tr>\n",
       "    <tr>\n",
       "      <th>1</th>\n",
       "      <td>128</td>\n",
       "      <td>2.5</td>\n",
       "      <td>ON</td>\n",
       "      <td>910</td>\n",
       "      <td>3</td>\n",
       "      <td>1</td>\n",
       "      <td>6</td>\n",
       "      <td>2</td>\n",
       "      <td>4</td>\n",
       "      <td>1</td>\n",
       "      <td>...</td>\n",
       "      <td>0</td>\n",
       "      <td>0</td>\n",
       "      <td>0</td>\n",
       "      <td>0</td>\n",
       "      <td>0</td>\n",
       "      <td>0</td>\n",
       "      <td>0</td>\n",
       "      <td>0</td>\n",
       "      <td>0</td>\n",
       "      <td>0</td>\n",
       "    </tr>\n",
       "    <tr>\n",
       "      <th>2</th>\n",
       "      <td>170</td>\n",
       "      <td>4.0</td>\n",
       "      <td>NC</td>\n",
       "      <td>1442</td>\n",
       "      <td>3</td>\n",
       "      <td>1</td>\n",
       "      <td>5</td>\n",
       "      <td>2</td>\n",
       "      <td>4</td>\n",
       "      <td>1</td>\n",
       "      <td>...</td>\n",
       "      <td>0</td>\n",
       "      <td>0</td>\n",
       "      <td>0</td>\n",
       "      <td>0</td>\n",
       "      <td>0</td>\n",
       "      <td>0</td>\n",
       "      <td>0</td>\n",
       "      <td>0</td>\n",
       "      <td>0</td>\n",
       "      <td>0</td>\n",
       "    </tr>\n",
       "    <tr>\n",
       "      <th>3</th>\n",
       "      <td>3</td>\n",
       "      <td>2.5</td>\n",
       "      <td>ON</td>\n",
       "      <td>6</td>\n",
       "      <td>3</td>\n",
       "      <td>1</td>\n",
       "      <td>4</td>\n",
       "      <td>2</td>\n",
       "      <td>4</td>\n",
       "      <td>1</td>\n",
       "      <td>...</td>\n",
       "      <td>0</td>\n",
       "      <td>0</td>\n",
       "      <td>0</td>\n",
       "      <td>0</td>\n",
       "      <td>0</td>\n",
       "      <td>0</td>\n",
       "      <td>0</td>\n",
       "      <td>0</td>\n",
       "      <td>0</td>\n",
       "      <td>0</td>\n",
       "    </tr>\n",
       "    <tr>\n",
       "      <th>4</th>\n",
       "      <td>7</td>\n",
       "      <td>3.5</td>\n",
       "      <td>AB</td>\n",
       "      <td>2</td>\n",
       "      <td>3</td>\n",
       "      <td>1</td>\n",
       "      <td>4</td>\n",
       "      <td>2</td>\n",
       "      <td>4</td>\n",
       "      <td>1</td>\n",
       "      <td>...</td>\n",
       "      <td>0</td>\n",
       "      <td>0</td>\n",
       "      <td>0</td>\n",
       "      <td>0</td>\n",
       "      <td>0</td>\n",
       "      <td>0</td>\n",
       "      <td>0</td>\n",
       "      <td>0</td>\n",
       "      <td>0</td>\n",
       "      <td>0</td>\n",
       "    </tr>\n",
       "  </tbody>\n",
       "</table>\n",
       "<p>5 rows × 1313 columns</p>\n",
       "</div>"
      ],
      "text/plain": [
       "   review_count  stars state  checkin_sum  AcceptsInsurance  AgesAllowed  \\\n",
       "0             5    3.0    AZ           40                 3            1   \n",
       "1           128    2.5    ON          910                 3            1   \n",
       "2           170    4.0    NC         1442                 3            1   \n",
       "3             3    2.5    ON            6                 3            1   \n",
       "4             7    3.5    AB            2                 3            1   \n",
       "\n",
       "   Alcohol  BYOB  BYOBCorkage  BestNights  ...   Wine Tasting Classes  \\\n",
       "0        4     2            4           1  ...                      0   \n",
       "1        6     2            4           1  ...                      0   \n",
       "2        5     2            4           1  ...                      0   \n",
       "3        4     2            4           1  ...                      0   \n",
       "4        4     2            4           1  ...                      0   \n",
       "\n",
       "   Wine Tasting Room  Wine Tours  Wineries  Women's Clothing  Wraps  \\\n",
       "0                  0           0         0                 0      0   \n",
       "1                  0           0         0                 0      0   \n",
       "2                  0           0         0                 0      0   \n",
       "3                  0           0         0                 0      0   \n",
       "4                  0           0         0                 0      0   \n",
       "\n",
       "   Yelp Events  Yoga  Ziplining  Zoos  \n",
       "0            0     0          0     0  \n",
       "1            0     0          0     0  \n",
       "2            0     0          0     0  \n",
       "3            0     0          0     0  \n",
       "4            0     0          0     0  \n",
       "\n",
       "[5 rows x 1313 columns]"
      ]
     },
     "execution_count": 26,
     "metadata": {},
     "output_type": "execute_result"
    }
   ],
   "source": [
    "df.head()"
   ]
  },
  {
   "cell_type": "markdown",
   "metadata": {},
   "source": [
    "### 1.2.3) Feature: 'review_count'"
   ]
  },
  {
   "cell_type": "code",
   "execution_count": 27,
   "metadata": {},
   "outputs": [
    {
     "data": {
      "text/plain": [
       "count    144219.000000\n",
       "mean         42.141965\n",
       "std         125.679534\n",
       "min           3.000000\n",
       "25%           6.000000\n",
       "50%          13.000000\n",
       "75%          34.000000\n",
       "max        8348.000000\n",
       "Name: review_count, dtype: float64"
      ]
     },
     "execution_count": 27,
     "metadata": {},
     "output_type": "execute_result"
    }
   ],
   "source": [
    "df['review_count'].describe()"
   ]
  },
  {
   "cell_type": "code",
   "execution_count": 28,
   "metadata": {
    "scrolled": false
   },
   "outputs": [
    {
     "data": {
      "text/plain": [
       "<matplotlib.axes._subplots.AxesSubplot at 0x2390cfb48d0>"
      ]
     },
     "execution_count": 28,
     "metadata": {},
     "output_type": "execute_result"
    },
    {
     "data": {
      "image/png": "[encoded data removed]",
      "text/plain": [
       "<Figure size 864x576 with 1 Axes>"
      ]
     },
     "metadata": {
      "needs_background": "light"
     },
     "output_type": "display_data"
    }
   ],
   "source": [
    "df['review_count'].hist(bins=100, figsize=(12,8), zorder=2, rwidth=0.9)"
   ]
  },
  {
   "cell_type": "markdown",
   "metadata": {},
   "source": [
    "#### 1.2.4) Feature: 'state'"
   ]
  },
  {
   "cell_type": "code",
   "execution_count": 29,
   "metadata": {},
   "outputs": [
    {
     "data": {
      "text/plain": [
       "AZ     40489\n",
       "NV     27609\n",
       "ON     25445\n",
       "OH     11160\n",
       "NC     11156\n",
       "PA      8682\n",
       "QC      7871\n",
       "AB      5692\n",
       "WI      3880\n",
       "IL      1343\n",
       "SC       845\n",
       "NY        17\n",
       "CA        10\n",
       "TX         3\n",
       "WA         2\n",
       "BC         1\n",
       "CT         1\n",
       "AK         1\n",
       "XGM        1\n",
       "UT         1\n",
       "BAS        1\n",
       "AL         1\n",
       "CON        1\n",
       "GA         1\n",
       "FL         1\n",
       "AR         1\n",
       "XWY        1\n",
       "VT         1\n",
       "NM         1\n",
       "XGL        1\n",
       "Name: state, dtype: int64"
      ]
     },
     "execution_count": 29,
     "metadata": {},
     "output_type": "execute_result"
    }
   ],
   "source": [
    "df['state'].value_counts()"
   ]
  },
  {
   "cell_type": "markdown",
   "metadata": {},
   "source": [
    "Some states like Texas (TX) and Washington (WA) are only a few times included in the data. For cleaning the data, datasets from these states aren't excluded of further investigations"
   ]
  },
  {
   "cell_type": "code",
   "execution_count": 30,
   "metadata": {},
   "outputs": [],
   "source": [
    "df = df[(df['state']=='AZ') | \n",
    "        (df['state']=='NV') | \n",
    "        (df['state']=='ON') | \n",
    "        (df['state']=='NC') | \n",
    "        (df['state']=='OH') | \n",
    "        (df['state']=='PA') | \n",
    "        (df['state']=='QC') | \n",
    "        (df['state']=='AB') | \n",
    "        (df['state']=='WI') | \n",
    "        (df['state']=='IL') | \n",
    "        (df['state']=='SC')]"
   ]
  },
  {
   "cell_type": "code",
   "execution_count": 31,
   "metadata": {},
   "outputs": [],
   "source": [
    "# Encode the States\n",
    "le = LabelEncoder()\n",
    "le.fit(df['state'].astype(str))\n",
    "df['state'] = le.transform(df['state'].astype(str)) \n",
    "df_encoder = df_encoder.append({'column_name':'state', 'encoder':le}, ignore_index=True)"
   ]
  },
  {
   "cell_type": "markdown",
   "metadata": {},
   "source": [
    "### 1.2.5) Feature: 'checkin_sum'"
   ]
  },
  {
   "cell_type": "code",
   "execution_count": 32,
   "metadata": {},
   "outputs": [
    {
     "data": {
      "text/plain": [
       "count    144172.000000\n",
       "mean        257.970646\n",
       "std        1548.771811\n",
       "min           2.000000\n",
       "25%          10.000000\n",
       "50%          38.000000\n",
       "75%         148.000000\n",
       "max      286122.000000\n",
       "Name: checkin_sum, dtype: float64"
      ]
     },
     "execution_count": 32,
     "metadata": {},
     "output_type": "execute_result"
    }
   ],
   "source": [
    "df['checkin_sum'].describe()"
   ]
  },
  {
   "cell_type": "code",
   "execution_count": 33,
   "metadata": {
    "scrolled": false
   },
   "outputs": [
    {
     "data": {
      "text/plain": [
       "<matplotlib.axes._subplots.AxesSubplot at 0x2390bbc7128>"
      ]
     },
     "execution_count": 33,
     "metadata": {},
     "output_type": "execute_result"
    },
    {
     "data": {
      "image/png": "[encoded data removed]",
      "text/plain": [
       "<Figure size 864x576 with 1 Axes>"
      ]
     },
     "metadata": {
      "needs_background": "light"
     },
     "output_type": "display_data"
    }
   ],
   "source": [
    "df['checkin_sum'].hist(bins=100, figsize=(12,8), zorder=2, rwidth=0.9)"
   ]
  },
  {
   "cell_type": "markdown",
   "metadata": {},
   "source": [
    "### 1.2.6) Target: 'stars'"
   ]
  },
  {
   "cell_type": "code",
   "execution_count": 34,
   "metadata": {},
   "outputs": [
    {
     "data": {
      "text/plain": [
       "<matplotlib.axes._subplots.AxesSubplot at 0x2390d16c6d8>"
      ]
     },
     "execution_count": 34,
     "metadata": {},
     "output_type": "execute_result"
    },
    {
     "data": {
      "image/png": "[encoded data removed]",
      "text/plain": [
       "<Figure size 432x288 with 1 Axes>"
      ]
     },
     "metadata": {
      "needs_background": "light"
     },
     "output_type": "display_data"
    }
   ],
   "source": [
    "# Distribution of the star ratings\n",
    "star_count = df['stars'].value_counts()\n",
    "star_count.reindex([1, 1.5, 2, 2.5, 3, 3.5, 4, 4.5, 5]).plot.bar()"
   ]
  },
  {
   "cell_type": "markdown",
   "metadata": {},
   "source": [
    "# 2) Train-, Validation-, Test-Set"
   ]
  },
  {
   "cell_type": "code",
   "execution_count": 35,
   "metadata": {},
   "outputs": [
    {
     "data": {
      "text/plain": [
       "(144172, 1313)"
      ]
     },
     "execution_count": 35,
     "metadata": {},
     "output_type": "execute_result"
    }
   ],
   "source": [
    "df.shape"
   ]
  },
  {
   "cell_type": "code",
   "execution_count": 36,
   "metadata": {},
   "outputs": [],
   "source": [
    "df = df.reset_index(drop=True)\n",
    "# Modifiy the target:\n",
    "target =  2*df['stars']\n",
    "df = df.drop(columns = ['stars'])"
   ]
  },
  {
   "cell_type": "code",
   "execution_count": 37,
   "metadata": {},
   "outputs": [],
   "source": [
    "# The dataframe df contains 144172 datasets. \n",
    "# Split: Train Set (60%)- Validation Set (20%) - Test Set (20%)\n",
    "X_train1, X_test, y_train1, y_test = train_test_split(df, target, test_size=0.20, random_state=42)\n",
    "X_train, X_val, y_train, y_val = train_test_split(X_train1, y_train1, test_size=0.25, random_state=42)"
   ]
  },
  {
   "cell_type": "markdown",
   "metadata": {},
   "source": [
    "# 4) The Models"
   ]
  },
  {
   "cell_type": "markdown",
   "metadata": {},
   "source": [
    "## 4.1) Model 1"
   ]
  },
  {
   "cell_type": "markdown",
   "metadata": {},
   "source": [
    "Build up a model to see how the model preforms and what features are the most important ones."
   ]
  },
  {
   "cell_type": "code",
   "execution_count": 38,
   "metadata": {},
   "outputs": [],
   "source": [
    "gbc = GradientBoostingClassifier(n_estimators=100, max_depth=1, random_state=42)"
   ]
  },
  {
   "cell_type": "code",
   "execution_count": 39,
   "metadata": {},
   "outputs": [
    {
     "data": {
      "text/plain": [
       "GradientBoostingClassifier(criterion='friedman_mse', init=None,\n",
       "              learning_rate=0.1, loss='deviance', max_depth=1,\n",
       "              max_features=None, max_leaf_nodes=None,\n",
       "              min_impurity_decrease=0.0, min_impurity_split=None,\n",
       "              min_samples_leaf=1, min_samples_split=2,\n",
       "              min_weight_fraction_leaf=0.0, n_estimators=100,\n",
       "              presort='auto', random_state=42, subsample=1.0, verbose=0,\n",
       "              warm_start=False)"
      ]
     },
     "execution_count": 39,
     "metadata": {},
     "output_type": "execute_result"
    }
   ],
   "source": [
    "gbc.fit(X_train1, y_train1)"
   ]
  },
  {
   "cell_type": "code",
   "execution_count": 40,
   "metadata": {},
   "outputs": [
    {
     "name": "stdout",
     "output_type": "stream",
     "text": [
      "The accuracy of the first random forest model:\n",
      "The accuracy of the second random forest model:\n",
      "Train Set 0.27982347382019646\n",
      "Test Set 0.2798335356337784\n"
     ]
    }
   ],
   "source": [
    "print('The accuracy of the first random forest model:')\n",
    "print('The accuracy of the second random forest model:')\n",
    "print('Train Set', gbc.score(X_train1, y_train1))\n",
    "print('Test Set', gbc.score(X_test, y_test))"
   ]
  },
  {
   "cell_type": "code",
   "execution_count": 41,
   "metadata": {},
   "outputs": [
    {
     "name": "stdout",
     "output_type": "stream",
     "text": [
      "Most important features:\n"
     ]
    },
    {
     "data": {
      "text/plain": [
       "review_count                    0.181111\n",
       "checkin_sum                     0.098889\n",
       "Fast Food                       0.098889\n",
       "WheelchairAccessible            0.051111\n",
       "BusinessParking                 0.048889\n",
       "Real Estate                     0.035556\n",
       "Apartments                      0.028889\n",
       "Burgers                         0.024444\n",
       "GoodForMeal                     0.023333\n",
       "state                           0.022222\n",
       "Chicken Wings                   0.020000\n",
       "Drugstores                      0.018889\n",
       "BusinessAcceptsBitcoin          0.017778\n",
       "NoiseLevel                      0.015556\n",
       "American (Traditional)          0.015556\n",
       "RestaurantsPriceRange2          0.014444\n",
       "Chinese                         0.014444\n",
       "Hotels                          0.013333\n",
       "Television Service Providers    0.013333\n",
       "RestaurantsAttire               0.012222\n",
       "dtype: float64"
      ]
     },
     "execution_count": 41,
     "metadata": {},
     "output_type": "execute_result"
    }
   ],
   "source": [
    "# 20 most important features\n",
    "print('Most important features:')\n",
    "feat_importances = pd.Series(gbc.feature_importances_, index=df.columns)\n",
    "feat_importances.nlargest(20)"
   ]
  },
  {
   "cell_type": "code",
   "execution_count": 43,
   "metadata": {},
   "outputs": [],
   "source": [
    "# Save the model\n",
    "filename = 'model_gradient_boostingt.pkl'\n",
    "pickle.dump(gbc, open(filename, 'wb'))"
   ]
  },
  {
   "cell_type": "markdown",
   "metadata": {},
   "source": [
    "**Annotation:**\n",
    "\n",
    "In general the performance of the model is not satisfying. The accuracy is far to low to realistic business insides.\n",
    "\n",
    "One problem could be, that the classification of 9 classes (1, 1.5, 2, 2.5, 3, 3.5, 4, 4.5, 5) is to much. Simultaneously the dataset is not balanced. Not every class is available the same number of times."
   ]
  },
  {
   "cell_type": "markdown",
   "metadata": {},
   "source": [
    "# 5) Outlook"
   ]
  },
  {
   "cell_type": "markdown",
   "metadata": {},
   "source": [
    "This investigation can be extended to increase the performance of rating businesses based on attributes. The following questions show some possibilities for further studies:\n",
    "* Can correlations between different features can be detected? Can new, relevant features can be generated?\n",
    "* What is the performance of an other machine learning techniques (e.g. GradientBoostingClassifier, ...) compared to the here used random forest method?\n",
    "* Does a different labeling (for example frequency based) or an overall feature normalized increase the model?"
   ]
  }
 ],
 "metadata": {
  "kernelspec": {
   "display_name": "Python 3",
   "language": "python",
   "name": "python3"
  },
  "language_info": {
   "codemirror_mode": {
    "name": "ipython",
    "version": 3
   },
   "file_extension": ".py",
   "mimetype": "text/x-python",
   "name": "python",
   "nbconvert_exporter": "python",
   "pygments_lexer": "ipython3",
   "version": "3.7.0"
  }
 },
 "nbformat": 4,
 "nbformat_minor": 2
}
